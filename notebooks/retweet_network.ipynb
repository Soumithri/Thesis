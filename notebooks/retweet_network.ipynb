{
 "cells": [
  {
   "cell_type": "code",
   "execution_count": null,
   "metadata": {},
   "outputs": [],
   "source": [
    "import networkx as nx\n",
    "from matplotlib import pyplot as plt\n",
    "import json\n",
    "import sys\n",
    "from pprint import pprint\n",
    "from collections import namedtuple\n",
    "from MongoConnector import MongoConnector\n",
    "%matplotlib inline"
   ]
  },
  {
   "cell_type": "code",
   "execution_count": null,
   "metadata": {},
   "outputs": [],
   "source": [
    "def build_retweet_network(cursor, internal_only=True):\n",
    "    all_users = set()\n",
    "    result_set_users = set()\n",
    "    Edge = namedtuple(\"Edge\", [\"tweeter\", \"retweeted\"])\n",
    "    retweet_dict = {}\n",
    "\n",
    "    print(\"Getting user data to build retweet network...\")\n",
    "\n",
    "    #print(cursor.find().count())\n",
    "    for retweet in cursor.find():\n",
    "        tweet_user = retweet['user']['screen_name']\n",
    "        try:\n",
    "            retweet_user = retweet['retweeted_status']\n",
    "        except:\n",
    "            continue\n",
    "        else:\n",
    "            retweet_user = retweet['retweeted_status']['user']['screen_name'] \n",
    "            #print(tweet_user, retweet_user)\n",
    "            all_users.add(tweet_user)\n",
    "            all_users.add(retweet_user)\n",
    "            result_set_users.add(tweet_user)\n",
    "\n",
    "            e = Edge(tweeter=tweet_user, retweeted=retweet_user)\n",
    "            if e in retweet_dict:\n",
    "                retweet_dict[e] += 1\n",
    "            else:\n",
    "                retweet_dict[e] = 1\n",
    "\n",
    "    print( \"Summary:\\n\")\n",
    "    print( \"{0} total users tweeted or retweeted\".format(len(all_users)))\n",
    "    print( \"{0} total users tweeted\".format(len(result_set_users)))\n",
    "    print( \"{0} external users (users that were retweeted but did not tweet in the data set)\".format(\n",
    "            len(all_users.difference(result_set_users))))\n",
    "    print( \"{0} directed edges between users\".format(len(retweet_dict)))\n",
    "    print( \"{0} total retweets between all users (including retweeting from same users more than once)\\n\".format(\n",
    "            sum(retweet_dict.values())))\n",
    "\n",
    "    print( \"Building DiGraph...\")\n",
    "    # Create digraph\n",
    "    DG = nx.DiGraph()\n",
    "\n",
    "    if internal_only:\n",
    "        # Add all result_set users only to the graph, with type and color properties\n",
    "        DG.add_nodes_from(list(result_set_users), node_type=\"internal\", color=\"#2A2AD1\")\n",
    "\n",
    "        # Add all edges where both tweeter and retweeted are in the user list\n",
    "        for edge in retweet_dict.items():\n",
    "            if edge[0].tweeter in result_set_users and edge[0].retweeted in result_set_users:\n",
    "                DG.add_edge(edge[0].tweeter, edge[0].retweeted, weight=edge[1])\n",
    "\n",
    "    else:\n",
    "        # Add all users as nodes, with type property internal (tweeted in result set) or external (just a retweeted user)\n",
    "        DG.add_nodes_from(list(result_set_users), node_type=\"internal\", color=\"#2A2AD1\")\n",
    "        DG.add_nodes_from(list(all_users.difference(result_set_users)), node_type=\"external\", color=\"#CCCCCC\")\n",
    "\n",
    "        # Add all edges, with weight property equal to number of directional retweets between two users (no edge for 0)\n",
    "        DG.add_weighted_edges_from([ (e[0].tweeter, e[0].retweeted, e[1]) for e in retweet_dict.items() ])\n",
    "\n",
    "    # Return graph/network!\n",
    "    return DG"
   ]
  },
  {
   "cell_type": "code",
   "execution_count": null,
   "metadata": {},
   "outputs": [],
   "source": [
    "def display_retweet_network(network, outfile=None, show=False):\n",
    "    \"\"\"\n",
    "    Take a DiGraph (retweet network?) and display+/save it to file.\n",
    "    Nodes must have a 'color' property, represented literally and indicating their type\n",
    "    Edges must have a 'weight' property, represented as edge width\n",
    "    \"\"\"\n",
    "\n",
    "    # Create a color list corresponding to nodes.\n",
    "    node_colors = [ n[1][\"color\"] for n in network.nodes(data=True) ]\n",
    "\n",
    "    # Get edge weights from graph\n",
    "    edge_weights = [ e[2][\"weight\"] for e in network.edges(data=True) ]\n",
    "\n",
    "    # Build up graph figure\n",
    "    #pos = nx.random_layout(network)\n",
    "    pos = nx.spring_layout(network)\n",
    "    nx.draw_networkx_edges(network, pos, alpha=0.3 , width=edge_weights, edge_color='m')\n",
    "    nx.draw_networkx_nodes(network, pos, node_size=400, node_color=node_colors, alpha=0.4)\n",
    "    #nx.draw_networkx_labels(network, pos, fontsize=6)\n",
    "\n",
    "    plt.title(\"Retweet Network\", { 'fontsize': 12 })\n",
    "    plt.axis('off')\n",
    "\n",
    "    if outfile:\n",
    "        print(\"Saving network to file: {0}\".format(outfile))\n",
    "        plt.savefig(outfile)\n",
    "\n",
    "    if show:\n",
    "        print(\"Displaying graph. Close graph window to resume python execution\")\n",
    "        plt.show()"
   ]
  },
  {
   "cell_type": "code",
   "execution_count": null,
   "metadata": {},
   "outputs": [],
   "source": [
    "def main():\n",
    "    with open(\"../db_config.json\",'r') as f:\n",
    "        config = json.load(f)\n",
    "    # client = MongoClient(config[\"MONGO_HOST\"], config[\"MONGO_PORT\"])\n",
    "    # db = client[config[\"MONGO_DB\"]]\n",
    "    # coll = db[config[\"MONGO_COLL\"]]\n",
    "    cursor = MongoConnector(config).__connect__()\n",
    "    rn = build_retweet_network(cursor, internal_only=True)\n",
    "    display_retweet_network(rn, show=True)"
   ]
  },
  {
   "cell_type": "code",
   "execution_count": null,
   "metadata": {},
   "outputs": [],
   "source": [
    "if __name__=='__main__':\n",
    "    main()    "
   ]
  },
  {
   "cell_type": "code",
   "execution_count": null,
   "metadata": {},
   "outputs": [],
   "source": [
    "%tb"
   ]
  },
  {
   "cell_type": "code",
   "execution_count": null,
   "metadata": {},
   "outputs": [],
   "source": []
  }
 ],
 "metadata": {
  "kernelspec": {
   "display_name": "Python 3",
   "language": "python",
   "name": "python3"
  },
  "language_info": {
   "codemirror_mode": {
    "name": "ipython",
    "version": 3
   },
   "file_extension": ".py",
   "mimetype": "text/x-python",
   "name": "python",
   "nbconvert_exporter": "python",
   "pygments_lexer": "ipython3",
   "version": "3.5.2"
  }
 },
 "nbformat": 4,
 "nbformat_minor": 2
}
