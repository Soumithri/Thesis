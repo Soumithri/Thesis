{
 "cells": [
  {
   "cell_type": "code",
   "execution_count": 4,
   "metadata": {},
   "outputs": [],
   "source": [
    "#import the necessary libraries\n",
    "import nltk\n",
    "import json\n",
    "from pprint import pprint\n",
    "\n",
    "#import custom libraries\n",
    "from MongoConnector import MongoConnector"
   ]
  },
  {
   "cell_type": "code",
   "execution_count": 5,
   "metadata": {},
   "outputs": [
    {
     "name": "stdout",
     "output_type": "stream",
     "text": [
      "{'MONGO_COLL': 'historical_tweets2',\n",
      " 'MONGO_DB': 'tweetCorpus',\n",
      " 'MONGO_HOST': 'localhost',\n",
      " 'MONGO_PORT': 27017}\n"
     ]
    }
   ],
   "source": [
    "# Load the config dictionary object from the db_config.json file\n",
    "with open(\"../db_config.json\",'r') as f:\n",
    "    config = json.load(f)\n",
    "# print the config file\n",
    "pprint(config)"
   ]
  },
  {
   "cell_type": "code",
   "execution_count": 6,
   "metadata": {},
   "outputs": [],
   "source": [
    "# Create a cursor to connect to MongoDB \n",
    "cursor = MongoConnector(config).__connect__()"
   ]
  },
  {
   "cell_type": "code",
   "execution_count": 7,
   "metadata": {},
   "outputs": [
    {
     "name": "stdout",
     "output_type": "stream",
     "text": [
      "[{'_id': ObjectId('5a34041fbe437712b8efd3ba'),\n",
      "  'contributors': None,\n",
      "  'coordinates': None,\n",
      "  'created_at': 'Fri Dec 15 02:38:42 +0000 2017',\n",
      "  'entities': {'hashtags': [],\n",
      "               'symbols': [],\n",
      "               'urls': [],\n",
      "               'user_mentions': [{'id': 15290441,\n",
      "                                  'id_str': '15290441',\n",
      "                                  'indices': [0, 12],\n",
      "                                  'name': 'WWE Universe',\n",
      "                                  'screen_name': 'WWEUniverse'},\n",
      "                                 {'id': 17861062,\n",
      "                                  'id_str': '17861062',\n",
      "                                  'indices': [13, 29],\n",
      "                                  'name': 'GUNNA',\n",
      "                                  'screen_name': 'machinegunkelly'}]},\n",
      "  'favorite_count': 0,\n",
      "  'favorited': False,\n",
      "  'geo': None,\n",
      "  'id': 941497715590160384,\n",
      "  'id_str': '941497715590160384',\n",
      "  'in_reply_to_screen_name': 'WWEUniverse',\n",
      "  'in_reply_to_status_id': 941496869250768896,\n",
      "  'in_reply_to_status_id_str': '941496869250768896',\n",
      "  'in_reply_to_user_id': 15290441,\n",
      "  'in_reply_to_user_id_str': '15290441',\n",
      "  'is_quote_status': False,\n",
      "  'lang': 'en',\n",
      "  'place': None,\n",
      "  'retweet_count': 0,\n",
      "  'retweeted': False,\n",
      "  'source': '<a href=\"http://twitter.com/download/iphone\" '\n",
      "            'rel=\"nofollow\">Twitter for iPhone</a>',\n",
      "  'text': '@WWEUniverse @machinegunkelly Where was Kevin Owens when we needed '\n",
      "          'him?',\n",
      "  'truncated': False,\n",
      "  'tweet_status': 1,\n",
      "  'user': {'contributors_enabled': False,\n",
      "           'created_at': 'Mon Jun 27 15:10:28 +0000 2011',\n",
      "           'default_profile': False,\n",
      "           'default_profile_image': False,\n",
      "           'description': 'Redesign. Rebuild. Reclaim.',\n",
      "           'entities': {'description': {'urls': []},\n",
      "                        'url': {'urls': [{'display_url': 'youtube.com/brutalguy1990',\n",
      "                                          'expanded_url': 'http://www.youtube.com/brutalguy1990',\n",
      "                                          'indices': [0, 23],\n",
      "                                          'url': 'https://t.co/UMhUFuKywy'}]}},\n",
      "           'favourites_count': 7761,\n",
      "           'follow_request_sent': False,\n",
      "           'followers_count': 805,\n",
      "           'following': False,\n",
      "           'friends_count': 1011,\n",
      "           'geo_enabled': True,\n",
      "           'has_extended_profile': True,\n",
      "           'id': 324987904,\n",
      "           'id_str': '324987904',\n",
      "           'is_translation_enabled': False,\n",
      "           'is_translator': False,\n",
      "           'lang': 'en',\n",
      "           'listed_count': 8,\n",
      "           'location': '',\n",
      "           'name': 'Triston G.',\n",
      "           'notifications': False,\n",
      "           'profile_background_color': '181C1F',\n",
      "           'profile_background_image_url': 'http://pbs.twimg.com/profile_background_images/461224907603333120/W3hTcdLa.jpeg',\n",
      "           'profile_background_image_url_https': 'https://pbs.twimg.com/profile_background_images/461224907603333120/W3hTcdLa.jpeg',\n",
      "           'profile_background_tile': False,\n",
      "           'profile_banner_url': 'https://pbs.twimg.com/profile_banners/324987904/1508377757',\n",
      "           'profile_image_url': 'http://pbs.twimg.com/profile_images/934879115970318347/G_dnzAFf_normal.jpg',\n",
      "           'profile_image_url_https': 'https://pbs.twimg.com/profile_images/934879115970318347/G_dnzAFf_normal.jpg',\n",
      "           'profile_link_color': '005EFF',\n",
      "           'profile_sidebar_border_color': '454B52',\n",
      "           'profile_sidebar_fill_color': '0E1621',\n",
      "           'profile_text_color': 'CE9626',\n",
      "           'profile_use_background_image': False,\n",
      "           'protected': False,\n",
      "           'screen_name': 'BornWithDestiny',\n",
      "           'statuses_count': 9593,\n",
      "           'time_zone': 'Central Time (US & Canada)',\n",
      "           'translator_type': 'none',\n",
      "           'url': 'https://t.co/UMhUFuKywy',\n",
      "           'utc_offset': -21600,\n",
      "           'verified': False}}]\n"
     ]
    }
   ],
   "source": [
    "# Get a document from the mongodb collection\n",
    "documents = cursor.find({}).limit(1)\n",
    "pprint(list(documents))"
   ]
  },
  {
   "cell_type": "code",
   "execution_count": 8,
   "metadata": {},
   "outputs": [
    {
     "name": "stdout",
     "output_type": "stream",
     "text": [
      "['324987904',\n",
      " '890212929064366080',\n",
      " '750108724136701953',\n",
      " '2374706366',\n",
      " '70316660',\n",
      " '955382688']\n"
     ]
    }
   ],
   "source": [
    "# Get the unique users list from the collection specified by the attribute 'user.id_str'\n",
    "unique_users_list = cursor.distinct('user.id_str')\n",
    "# List any 5 unique users\n",
    "pprint(list(unique_users_list)[:6])"
   ]
  },
  {
   "cell_type": "code",
   "execution_count": 9,
   "metadata": {},
   "outputs": [
    {
     "name": "stdout",
     "output_type": "stream",
     "text": [
      "2207\n"
     ]
    }
   ],
   "source": [
    "# print the total number of unique users\n",
    "pprint(len(unique_users_list))"
   ]
  },
  {
   "cell_type": "code",
   "execution_count": 10,
   "metadata": {},
   "outputs": [],
   "source": [
    "# Save the unique_users_list in the file - unique_users.txt\n",
    "OUTPUT_DIRECTORY = '../output'\n",
    "import os\n",
    "import codecs\n",
    "if not os.path.exists(OUTPUT_DIRECTORY):\n",
    "    os.makedirs(OUTPUT_DIRECTORY)\n",
    "with codecs.open(OUTPUT_DIRECTORY+\"/unique_users.txt\", 'w','utf-8') as outfile:\n",
    "    for user in unique_users_list:\n",
    "        outfile.write(str(user+'\\n'))\n",
    "        "
   ]
  },
  {
   "cell_type": "code",
   "execution_count": 16,
   "metadata": {},
   "outputs": [
    {
     "name": "stdout",
     "output_type": "stream",
     "text": [
      "2207\n"
     ]
    }
   ],
   "source": [
    "# Load the unique users from the file into a list given by unique_users_list\n",
    "unique_users_list = []\n",
    "with open(\"../output/unique_users.txt\",'r', encoding='utf-8') as outfile:\n",
    "        unique_users_list = outfile.read().splitlines()\n",
    "pprint(len(unique_users_list))"
   ]
  },
  {
   "cell_type": "code",
   "execution_count": 116,
   "metadata": {
    "scrolled": true
   },
   "outputs": [
    {
     "name": "stdout",
     "output_type": "stream",
     "text": [
      "2714\n",
      "discarding userid : 324987904...\n"
     ]
    }
   ],
   "source": [
    "# Collect the tweets of the unique users and save them in a dictionary\n",
    "# Store the user info (id_str, screen_name) , tweet info (tweet_id, tweet, tweet_status, truncated),\n",
    "# user mention info(mentions, id_str, names, screen-names), favorite info (favorited, favorite_count),\n",
    "# retweet info (retweeted, retweet_count), reply (replyreply_id, reply_count), quote (quote_status, quote_list)\n",
    "\n",
    "# Create new mongo collection and cursor object to store the unprocessed raw feature corpus\n",
    "config1 = {  'MONGO_COLL': 'raw1Corpus',\n",
    "             'MONGO_DB': 'tweetCorpus',\n",
    "             'MONGO_HOST': 'localhost',\n",
    "             'MONGO_PORT': 27017}\n",
    "cursor2 = MongoConnector(config1).__connect__()\n",
    "\n",
    "import sys\n",
    "MAX_TWEET_LIMIT = 3000\n",
    "# Create the structure of the dictionary\n",
    "tweet_dict = dict()\n",
    "user_visible_list = ['user.id_str',\n",
    "                     'user.name', \n",
    "                     'user.screen_name',\n",
    "                     'user.created_at',\n",
    "                     'user.description',\n",
    "                     'user.derived',\n",
    "                     'user.protected',\n",
    "                     'user.verified',\n",
    "                     'user.followers_count',\n",
    "                     'user.friends_count',\n",
    "                     'user.listed_count',\n",
    "                     'user.favourites_count',\n",
    "                     'user.statuses_count',\n",
    "                     'user.contributors_enabled']\n",
    "tweet_visible_list = [  'id_str',\n",
    "                        'created_at',\n",
    "                        'text',\n",
    "                        'tweet_status',\n",
    "                        'truncated',\n",
    "                        'entities.user_mentions',\n",
    "                        'favorited',\n",
    "                        'favorite_count',\n",
    "                        'retweeted',\n",
    "                        'retweet_count',\n",
    "                        'in_reply_to_screen_name',\n",
    "                        'in_reply_to_status_id_str',\n",
    "                        'in_reply_to_user_id',\n",
    "                        'reply_count',\n",
    "                        'is_quote_status',\n",
    "                        'quote_count']\n",
    "user_projection = {attribute : 1 for attribute in user_visible_list}\n",
    "tweet_projection = {attribute: 1 for attribute in tweet_visible_list}\n",
    "\n",
    "discarded_users_list = list()\n",
    "counter = 0\n",
    "\n",
    "for user in unique_users_list[0:1]:\n",
    "    tweet_list = list()\n",
    "    query = {'user.id_str' : user,  'lang': 'en'}\n",
    "    user_docs = cursor.find_one(query, user_projection)\n",
    "    tweet_docs = cursor.find(query, tweet_projection).limit(MAX_TWEET_LIMIT)\n",
    "    \n",
    "    pprint(len(list(tweet_docs)))\n",
    "    # Discard users whose tweets < 10\n",
    "    if len(list(tweet_docs)) < 10:\n",
    "        discarded_users_list.append(user)\n",
    "        print('discarding userid : %s...' %(user))\n",
    "        continue\n",
    "        \n",
    "    tweet_dict['doc'] = {\n",
    "                           'user_info': user_docs['user'],\n",
    "                           'tweets': list(tweet_docs)\n",
    "                        }\n",
    "\n",
    "    pprint(list(len(tweet_docs)))\n",
    "    cursor2.insert_many(tweet_dict)\n",
    "    tweet_dict.clear()        \n",
    "    counter+=1\n",
    "    print('Storing done for %d user with id: %s' %(counter, user))\n",
    "    "
   ]
  },
  {
   "cell_type": "code",
   "execution_count": 106,
   "metadata": {},
   "outputs": [
    {
     "data": {
      "text/plain": [
       "'doc.user_info.id_str_1'"
      ]
     },
     "execution_count": 106,
     "metadata": {},
     "output_type": "execute_result"
    }
   ],
   "source": [
    "# Create Indexes for our mongodb data base for the fields - user_indo.id_str and tweets.id_str\n",
    "import pymongo\n",
    "cursor2.create_index([(\"doc.user_info.id_str\",pymongo.ASCENDING)], unique=True)\n"
   ]
  },
  {
   "cell_type": "code",
   "execution_count": 101,
   "metadata": {},
   "outputs": [
    {
     "name": "stdout",
     "output_type": "stream",
     "text": [
      "2167\n"
     ]
    }
   ],
   "source": [
    "pprint(len(list(set(unique_users_list) - set(discarded_users_list))))"
   ]
  },
  {
   "cell_type": "code",
   "execution_count": 102,
   "metadata": {},
   "outputs": [
    {
     "name": "stdout",
     "output_type": "stream",
     "text": [
      "2167\n"
     ]
    }
   ],
   "source": [
    "pprint(len(list(set(unique_users_list) - set(discarded_users_list))))\n"
   ]
  },
  {
   "cell_type": "code",
   "execution_count": 105,
   "metadata": {},
   "outputs": [],
   "source": [
    "# Write the userid of the unique users with tweets > 10\n",
    "with codecs.open(OUTPUT_DIRECTORY+\"/final_unique_users.txt\", 'w','utf-8') as outfile:\n",
    "    for user in list(set(unique_users_list) - set(discarded_users_list)):\n",
    "        outfile.write(str(user+'\\n'))\n",
    "\n",
    "# Write the user id of the discarded users ie. users whose tweets<=10\n",
    "with codecs.open(OUTPUT_DIRECTORY+\"/discarded_unique_users.txt\", 'w','utf-8') as outfile:\n",
    "    for user in discarded_users_list:\n",
    "        outfile.write(str(user+'\\n'))"
   ]
  },
  {
   "cell_type": "code",
   "execution_count": null,
   "metadata": {},
   "outputs": [],
   "source": []
  }
 ],
 "metadata": {
  "kernelspec": {
   "display_name": "Python 3",
   "language": "python",
   "name": "python3"
  },
  "language_info": {
   "codemirror_mode": {
    "name": "ipython",
    "version": 3
   },
   "file_extension": ".py",
   "mimetype": "text/x-python",
   "name": "python",
   "nbconvert_exporter": "python",
   "pygments_lexer": "ipython3",
   "version": "3.5.2"
  }
 },
 "nbformat": 4,
 "nbformat_minor": 2
}
