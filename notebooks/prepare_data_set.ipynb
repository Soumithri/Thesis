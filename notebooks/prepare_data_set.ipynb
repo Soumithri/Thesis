{
 "cells": [
  {
   "cell_type": "code",
   "execution_count": 1,
   "metadata": {},
   "outputs": [],
   "source": [
    "import sys\n",
    "import os\n",
    "import logging\n",
    "import timeit\n",
    "import json\n",
    "from bson import json_util\n",
    "\n",
    "import pymongo\n",
    "from pprint import pprint\n",
    "import tweepy\n",
    "import pandas as pd\n",
    "\n",
    "from MongoConnector import MongoConnector"
   ]
  },
  {
   "cell_type": "code",
   "execution_count": 2,
   "metadata": {},
   "outputs": [],
   "source": [
    "MONGO_CONFIG  = {  \n",
    "    'MONGO_COLL': 'tweets',\n",
    "    'MONGO_DB': 'tweetCorpus',\n",
    "    'MONGO_HOST': 'localhost',\n",
    "    'MONGO_PORT': 27017\n",
    "    }"
   ]
  },
  {
   "cell_type": "code",
   "execution_count": 3,
   "metadata": {},
   "outputs": [
    {
     "name": "stderr",
     "output_type": "stream",
     "text": [
      "2018-09-27 22:48:07,524 testing...1..2..3..\n"
     ]
    }
   ],
   "source": [
    "logging.basicConfig(level=logging.DEBUG, format='%(asctime)s %(message)s')\n",
    "logging.debug('testing...1..2..3..')"
   ]
  },
  {
   "cell_type": "code",
   "execution_count": 4,
   "metadata": {},
   "outputs": [
    {
     "name": "stderr",
     "output_type": "stream",
     "text": [
      "2018-09-27 22:48:07,530 Establishing MongoDB connection with parameters:- {'MONGO_DB': 'tweetCorpus', 'MONGO_COLL': 'tweets', 'MONGO_PORT': 27017, 'MONGO_HOST': 'localhost'}\n",
      "2018-09-27 22:48:07,535 Established connection...\n",
      "\n"
     ]
    }
   ],
   "source": [
    "logging.debug(\"Establishing MongoDB connection with parameters:- {}\".format(MONGO_CONFIG))\n",
    "cursor = MongoConnector(MONGO_CONFIG).__connect__()\n",
    "logging.info(\"Established connection...\\n\")"
   ]
  },
  {
   "cell_type": "code",
   "execution_count": 5,
   "metadata": {},
   "outputs": [
    {
     "data": {
      "text/html": [
       "<div>\n",
       "<style scoped>\n",
       "    .dataframe tbody tr th:only-of-type {\n",
       "        vertical-align: middle;\n",
       "    }\n",
       "\n",
       "    .dataframe tbody tr th {\n",
       "        vertical-align: top;\n",
       "    }\n",
       "\n",
       "    .dataframe thead th {\n",
       "        text-align: right;\n",
       "    }\n",
       "</style>\n",
       "<table border=\"1\" class=\"dataframe\">\n",
       "  <thead>\n",
       "    <tr style=\"text-align: right;\">\n",
       "      <th></th>\n",
       "      <th>tweet_id</th>\n",
       "      <th>created_at</th>\n",
       "      <th>text</th>\n",
       "      <th>lang</th>\n",
       "      <th>source_id</th>\n",
       "      <th>source_name</th>\n",
       "      <th>destination_id</th>\n",
       "      <th>destination_name</th>\n",
       "      <th>link</th>\n",
       "      <th>hashtag</th>\n",
       "    </tr>\n",
       "  </thead>\n",
       "  <tbody>\n",
       "  </tbody>\n",
       "</table>\n",
       "</div>"
      ],
      "text/plain": [
       "Empty DataFrame\n",
       "Columns: [tweet_id, created_at, text, lang, source_id, source_name, destination_id, destination_name, link, hashtag]\n",
       "Index: []"
      ]
     },
     "execution_count": 5,
     "metadata": {},
     "output_type": "execute_result"
    }
   ],
   "source": [
    "# df = pd.DataFrame(columns = ['tweet_id', 'created_at','text', 'o_created_at', 'o_favorite_count', 'o_reply_count', \n",
    "#                              'o_retweet_count','lang', 'tweeted_user_id', 'tweeted_user_screen_name', \n",
    "#                              'is_retweet', 'retweeted_users', 'retweet_count', 'in_reply_to_user_id', \n",
    "#                              'in_reply_to_screen_name', 'reply_count', 'user_mention_ids', \n",
    "#                              'user_mention_screen_names', 'hashtag', 'is_quote_status'])\n",
    "\n",
    "df = pd.DataFrame(columns = ['tweet_id', 'created_at', 'text', 'lang', 'source_id', 'source_name', 'destination_id', \n",
    "                             'destination_name', 'link', 'hashtag'])\n",
    "df\n",
    "    "
   ]
  },
  {
   "cell_type": "code",
   "execution_count": 6,
   "metadata": {},
   "outputs": [
    {
     "name": "stdout",
     "output_type": "stream",
     "text": [
      "ss\n"
     ]
    }
   ],
   "source": [
    "for tweet in cursor.find({}).limit(1000):\n",
    "    if tweet.get('retweeted_status') is None:\n",
    "        print('ss')\n",
    "        break"
   ]
  },
  {
   "cell_type": "code",
   "execution_count": 92,
   "metadata": {},
   "outputs": [],
   "source": [
    "tweet_id_list = list()\n",
    "nodes_id_list = list()\n",
    "def nodes_edges(cursor):\n",
    "    counter = 1\n",
    "    for tweet in cursor.find({}):\n",
    "#         logging.debug('creating nodes and edges for tweet id: {}'.format(tweet['id_str']))\n",
    "#         logging.debug('progress: {}%'.format(counter/1000))\n",
    "        if tweet['id_str'] not in tweet_id_list:\n",
    "            tweet_id_list.append(tweet['id_str'])\n",
    "            if tweet.get('retweeted_status') is not None:\n",
    "#                 df.loc[len(df)] = [tweet['id_str'], tweet['created_at'], tweet['text'], tweet['lang'], \n",
    "#                                    tweet['user']['id_str'], tweet['user']['screen_name'], \n",
    "#                                    tweet['retweeted_status']['user']['id_str'], \n",
    "#                                    tweet['retweeted_status']['user']['screen_name'], 'retweet',\n",
    "#                                    [i['text'] for i in tweet['retweeted_status']['entities']['hashtags']]]\n",
    "\n",
    "                if tweet['user']['id_str'] not in nodes_id_list:\n",
    "                    nodes_id_list.append(tweet['user']['id_str'])\n",
    "                    nodes_df.loc[len(nodes_df)] = [tweet['user']['id_str'], tweet['user']['screen_name'], \n",
    "                                             tweet['user']['created_at'], tweet['user']['friends_count'], \n",
    "                                             tweet['user']['followers_count'], tweet['user']['favourites_count'],\n",
    "                                             tweet['user']['verified']]\n",
    "                if tweet['retweeted_status']['user']['id_str'] not in nodes_id_list:\n",
    "                    nodes_id_list.append(tweet['retweeted_status']['user']['id_str'])\n",
    "                    nodes_df.loc[len(nodes_df)] = [tweet['retweeted_status']['user']['id_str'], \n",
    "                                                   tweet['retweeted_status']['user']['screen_name'], \n",
    "                                                   tweet['retweeted_status']['user']['created_at'], \n",
    "                                                   tweet['retweeted_status']['user']['friends_count'], \n",
    "                                                   tweet['retweeted_status']['user']['followers_count'], \n",
    "                                                   tweet['retweeted_status']['user']['favourites_count'],\n",
    "                                                   tweet['retweeted_status']['user']['verified']]\n",
    "                edges_df.loc[len(edges_df)] = [tweet['user']['id_str'], tweet['retweeted_status']['user']['id_str'],\n",
    "                                         'directed', 'retweet', 'Null']\n",
    "#                 try:\n",
    "#                     mentions =  list(tweet['retweeted_status']['entities']['user_mentions'])\n",
    "#                 except error as e:\n",
    "#                     print(e)\n",
    "#                     counter+=1\n",
    "#                     continue\n",
    "#                 else:\n",
    "#                     for i in mentions:\n",
    "# #                         df.loc[len(df)] = [tweet['id_str'], tweet['created_at'], tweet['text'], tweet['lang'], \n",
    "# #                                            tweet['user']['id_str'], tweet['user']['screen_name'], \n",
    "# #                                            i['id_str'], i['screen_name'], 'mention',\n",
    "# #                                            [i['text'] for i in tweet['retweeted_status']['entities']['hashtags']]]\n",
    "                        \n",
    "#                         edges_df.loc[len(edges_df)] = [tweet['user']['id_str'], tweet['retweeted_status']['user']['id_str'],\n",
    "#                                                  'directed', 'mention', 'Null']\n",
    "                counter+=1\n",
    "                    \n",
    "        "
   ]
  },
  {
   "cell_type": "code",
   "execution_count": 101,
   "metadata": {},
   "outputs": [
    {
     "name": "stderr",
     "output_type": "stream",
     "text": [
      "2018-09-28 02:34:02,949 Establishing MongoDB connection with parameters:- {'MONGO_DB': 'tweetCorpus', 'MONGO_COLL': 'tweets', 'MONGO_PORT': 27017, 'MONGO_HOST': 'localhost'}\n",
      "2018-09-28 02:34:02,952 Established connection...\n",
      "\n",
      "2018-09-28 02:34:02,953 Creating the data frame\n",
      "2018-09-28 02:37:57,636 Finished creating the data frame\n",
      "2018-09-28 02:37:57,637 Establishing MongoDB connection with parameters:- {'MONGO_DB': 'tweetCorpus', 'MONGO_COLL': 'tweets2', 'MONGO_PORT': 27017, 'MONGO_HOST': 'localhost'}\n",
      "2018-09-28 02:37:57,639 Established connection...\n",
      "\n",
      "2018-09-28 02:37:57,640 Creating the data frame\n",
      "2018-09-28 02:40:54,529 Finished creating the data frame\n",
      "2018-09-28 02:40:54,530 Establishing MongoDB connection with parameters:- {'MONGO_DB': 'tweetCorpus', 'MONGO_COLL': 'tweets3', 'MONGO_PORT': 27017, 'MONGO_HOST': 'localhost'}\n",
      "2018-09-28 02:40:54,533 Established connection...\n",
      "\n",
      "2018-09-28 02:40:54,535 Creating the data frame\n",
      "2018-09-28 02:43:50,604 Finished creating the data frame\n",
      "2018-09-28 02:43:50,605 Establishing MongoDB connection with parameters:- {'MONGO_DB': 'tweetCorpus', 'MONGO_COLL': 'tweets4', 'MONGO_PORT': 27017, 'MONGO_HOST': 'localhost'}\n",
      "2018-09-28 02:43:50,608 Established connection...\n",
      "\n",
      "2018-09-28 02:43:50,609 Creating the data frame\n",
      "2018-09-28 02:46:57,302 Finished creating the data frame\n",
      "2018-09-28 02:46:57,303 Establishing MongoDB connection with parameters:- {'MONGO_DB': 'tweetCorpus', 'MONGO_COLL': 'tweets5', 'MONGO_PORT': 27017, 'MONGO_HOST': 'localhost'}\n",
      "2018-09-28 02:46:57,306 Established connection...\n",
      "\n",
      "2018-09-28 02:46:57,307 Creating the data frame\n",
      "2018-09-28 02:49:48,479 Finished creating the data frame\n"
     ]
    }
   ],
   "source": [
    "COLL = ['tweets', 'tweets2', 'tweets3', 'tweets4', 'tweets5']\n",
    "\n",
    "nodes_df = pd.DataFrame(columns=['Id', 'label', 'created_at', 'friends_count', 'followers_count', 'favourites_count',\n",
    "                                 'verified'])\n",
    "edges_df = pd.DataFrame(columns=['Source', 'Target', 'Type', 'Link', 'Weight'])\n",
    "for i in range(0, len(COLL)):\n",
    "    \n",
    "    MONGO_CONFIG['MONGO_COLL'] = COLL[i]\n",
    "    logging.debug(\"Establishing MongoDB connection with parameters:- {}\".format(MONGO_CONFIG))\n",
    "    cursor = MongoConnector(MONGO_CONFIG).__connect__()\n",
    "    logging.info(\"Established connection...\\n\")\n",
    "    \n",
    "    logging.debug('Creating the data frame')\n",
    "    nodes_edges(cursor)\n",
    "    logging.debug('Finished creating the data frame')\n",
    "\n",
    "nodes_df.drop_duplicates(keep=False).to_csv(OUTPUT_DIR+'/nodes_list3.csv', sep=',', encoding='utf-8', index=False)\n",
    "edges_df.drop_duplicates(keep=False).to_csv(OUTPUT_DIR+'/edges_list3.csv', sep=',', encoding='utf-8', index=False)\n",
    "\n",
    "nodes_df = nodes_df.iloc[0:0]\n",
    "edges_df = edges_df.iloc[0:0]"
   ]
  },
  {
   "cell_type": "code",
   "execution_count": 9,
   "metadata": {},
   "outputs": [
    {
     "data": {
      "text/plain": [
       "6051"
      ]
     },
     "execution_count": 9,
     "metadata": {},
     "output_type": "execute_result"
    }
   ],
   "source": [
    "len(df)"
   ]
  },
  {
   "cell_type": "code",
   "execution_count": 10,
   "metadata": {},
   "outputs": [
    {
     "data": {
      "text/html": [
       "<div>\n",
       "<style scoped>\n",
       "    .dataframe tbody tr th:only-of-type {\n",
       "        vertical-align: middle;\n",
       "    }\n",
       "\n",
       "    .dataframe tbody tr th {\n",
       "        vertical-align: top;\n",
       "    }\n",
       "\n",
       "    .dataframe thead th {\n",
       "        text-align: right;\n",
       "    }\n",
       "</style>\n",
       "<table border=\"1\" class=\"dataframe\">\n",
       "  <thead>\n",
       "    <tr style=\"text-align: right;\">\n",
       "      <th></th>\n",
       "      <th>tweet_id</th>\n",
       "      <th>created_at</th>\n",
       "      <th>text</th>\n",
       "      <th>lang</th>\n",
       "      <th>source_id</th>\n",
       "      <th>source_name</th>\n",
       "      <th>destination_id</th>\n",
       "      <th>destination_name</th>\n",
       "      <th>link</th>\n",
       "      <th>hashtag</th>\n",
       "    </tr>\n",
       "  </thead>\n",
       "  <tbody>\n",
       "    <tr>\n",
       "      <th>0</th>\n",
       "      <td>935833300077285376</td>\n",
       "      <td>Wed Nov 29 11:30:20 +0000 2017</td>\n",
       "      <td>RT @OriginalFunko: RT &amp;amp; follow @OriginalFu...</td>\n",
       "      <td>en</td>\n",
       "      <td>805159395344715776</td>\n",
       "      <td>xxpxrytuw</td>\n",
       "      <td>1378000488</td>\n",
       "      <td>OriginalFunko</td>\n",
       "      <td>retweet</td>\n",
       "      <td>[StrangerThings]</td>\n",
       "    </tr>\n",
       "    <tr>\n",
       "      <th>1</th>\n",
       "      <td>935833300077285376</td>\n",
       "      <td>Wed Nov 29 11:30:20 +0000 2017</td>\n",
       "      <td>RT @OriginalFunko: RT &amp;amp; follow @OriginalFu...</td>\n",
       "      <td>en</td>\n",
       "      <td>805159395344715776</td>\n",
       "      <td>xxpxrytuw</td>\n",
       "      <td>1378000488</td>\n",
       "      <td>OriginalFunko</td>\n",
       "      <td>mention</td>\n",
       "      <td>[StrangerThings]</td>\n",
       "    </tr>\n",
       "    <tr>\n",
       "      <th>2</th>\n",
       "      <td>935833300077285376</td>\n",
       "      <td>Wed Nov 29 11:30:20 +0000 2017</td>\n",
       "      <td>RT @OriginalFunko: RT &amp;amp; follow @OriginalFu...</td>\n",
       "      <td>en</td>\n",
       "      <td>805159395344715776</td>\n",
       "      <td>xxpxrytuw</td>\n",
       "      <td>89084561</td>\n",
       "      <td>Target</td>\n",
       "      <td>mention</td>\n",
       "      <td>[StrangerThings]</td>\n",
       "    </tr>\n",
       "    <tr>\n",
       "      <th>3</th>\n",
       "      <td>935833395241865216</td>\n",
       "      <td>Wed Nov 29 11:30:43 +0000 2017</td>\n",
       "      <td>RT @OriginalFunko: RT &amp;amp; follow @OriginalFu...</td>\n",
       "      <td>en</td>\n",
       "      <td>600628878</td>\n",
       "      <td>MichaelOrioles</td>\n",
       "      <td>1378000488</td>\n",
       "      <td>OriginalFunko</td>\n",
       "      <td>retweet</td>\n",
       "      <td>[StrangerThings]</td>\n",
       "    </tr>\n",
       "    <tr>\n",
       "      <th>4</th>\n",
       "      <td>935833395241865216</td>\n",
       "      <td>Wed Nov 29 11:30:43 +0000 2017</td>\n",
       "      <td>RT @OriginalFunko: RT &amp;amp; follow @OriginalFu...</td>\n",
       "      <td>en</td>\n",
       "      <td>600628878</td>\n",
       "      <td>MichaelOrioles</td>\n",
       "      <td>1378000488</td>\n",
       "      <td>OriginalFunko</td>\n",
       "      <td>mention</td>\n",
       "      <td>[StrangerThings]</td>\n",
       "    </tr>\n",
       "  </tbody>\n",
       "</table>\n",
       "</div>"
      ],
      "text/plain": [
       "             tweet_id                      created_at  \\\n",
       "0  935833300077285376  Wed Nov 29 11:30:20 +0000 2017   \n",
       "1  935833300077285376  Wed Nov 29 11:30:20 +0000 2017   \n",
       "2  935833300077285376  Wed Nov 29 11:30:20 +0000 2017   \n",
       "3  935833395241865216  Wed Nov 29 11:30:43 +0000 2017   \n",
       "4  935833395241865216  Wed Nov 29 11:30:43 +0000 2017   \n",
       "\n",
       "                                                text lang           source_id  \\\n",
       "0  RT @OriginalFunko: RT &amp; follow @OriginalFu...   en  805159395344715776   \n",
       "1  RT @OriginalFunko: RT &amp; follow @OriginalFu...   en  805159395344715776   \n",
       "2  RT @OriginalFunko: RT &amp; follow @OriginalFu...   en  805159395344715776   \n",
       "3  RT @OriginalFunko: RT &amp; follow @OriginalFu...   en           600628878   \n",
       "4  RT @OriginalFunko: RT &amp; follow @OriginalFu...   en           600628878   \n",
       "\n",
       "      source_name destination_id destination_name     link           hashtag  \n",
       "0       xxpxrytuw     1378000488    OriginalFunko  retweet  [StrangerThings]  \n",
       "1       xxpxrytuw     1378000488    OriginalFunko  mention  [StrangerThings]  \n",
       "2       xxpxrytuw       89084561           Target  mention  [StrangerThings]  \n",
       "3  MichaelOrioles     1378000488    OriginalFunko  retweet  [StrangerThings]  \n",
       "4  MichaelOrioles     1378000488    OriginalFunko  mention  [StrangerThings]  "
      ]
     },
     "execution_count": 10,
     "metadata": {},
     "output_type": "execute_result"
    }
   ],
   "source": [
    "df.head()"
   ]
  },
  {
   "cell_type": "code",
   "execution_count": 11,
   "metadata": {},
   "outputs": [
    {
     "name": "stderr",
     "output_type": "stream",
     "text": [
      "2018-09-27 22:48:43,265 CACHEDIR=/Users/soumithri/.matplotlib\n",
      "2018-09-27 22:48:43,269 Using fontManager instance from /Users/soumithri/.matplotlib/fontList.json\n",
      "2018-09-27 22:48:43,427 backend module://ipykernel.pylab.backend_inline version unknown\n",
      "2018-09-27 22:48:43,441 backend module://ipykernel.pylab.backend_inline version unknown\n",
      "2018-09-27 22:48:43,448 backend module://ipykernel.pylab.backend_inline version unknown\n"
     ]
    }
   ],
   "source": [
    "import networkx as nx\n",
    "import matplotlib.pyplot as plt\n",
    "%matplotlib inline"
   ]
  },
  {
   "cell_type": "code",
   "execution_count": 12,
   "metadata": {},
   "outputs": [],
   "source": [
    "G = nx.from_pandas_edgelist(df, 'source_name', 'destination_name', edge_attr='link', \n",
    "                             create_using=nx.MultiDiGraph())"
   ]
  },
  {
   "cell_type": "code",
   "execution_count": 13,
   "metadata": {},
   "outputs": [
    {
     "data": {
      "text/plain": [
       "NodeView(('luhdorf1984', 'Carol2_18', 'CoupIesPosts', 'Milliestopshate', 'KatharineACox', 'zellecortez_', 'Muronimo', 'IHAB1204x4', 'it0k', 'angelaborden32', 'AliaJHarvey', 'crispy_flake', 'nanycentre', 'TheJakeJeckyll', 'eebeeebee', 'imthephil84', 'EricDurney', 'talkshowstaylor', 'Nicolechi11', 'Make_It_fRAIN', 'RobertsEmma', 'tristinjoachim', 'cecixdreams', 'jsicolts', 'Adriancobbs56', 'polkadot26', 'reb_says_what', 'DrugG4mer', 'causleyconcepts', 'lucky_e_mi', 'G4killer_YT', 'RealBadCopShow', 'Deemy_Cash', 'noah_schnapp', 'fingerguns_amy', 'paolajosephdun6', 'Liz_Scents', 'bitchinbyers', 'WaWayde', 'CadeJonesActor', 'speakerjones', 'IyanCalde', 'phillycouponmom', 'gaea_ca', 'Suarizta_life', 'zoe_music_lover', 'AngelitaMohler', 'dvdromero23', 'RussTaylor622', 'aizorian1', 'danielpsilvdum1', 'GypsyRN212', 'xxxCRGxxx', 'Savannah_Sanai', 'jammosir', 'ChazzSM', 'hisweetlips', 'sg0616', 'ErikD230', 'jarojacobson', 'tonyshybrid', 'QueenLesli', 'mustacheboy583', 'hopperdancingto', 'Andresito6198', 'CabaalGames', 'martinacasalinp', 'FozzieBear88', 'gvlvxyz', 'TheJeffReport', 'multifaithh', 'Lilly_Walker69', 'SimonStead6', 'Followill79', 'tenjoshidae', 'EatingBeagles', 'purplepassion12', 'hsushqksjqk', 'talia_r21', 'Shame082017', 'SadieSink', 'fuzzyquills4549', 'petersleftknee', '94onlybieber', 'littleskyles', 'Brumy23', 'ClaireEstabroo1', 'CNCOBAUSOGAS', 'germanwayne09', 'cfb321', 'byerspetsch', 'verakatherine_p', 'billycipher1992', 'BionicCoxy', 'shoshyolo', 'puncturedt', 'fity_9', 'Icabod11', 'Wolfgar14', 'itsnicethat', 'slimssf', 'DegroffRicky', 'nerderymisfit', 'majo_pea98', 'KlNGTAEYEON', 'Quique__5', 'ClearAlibi', 'jonasdemomento', '06bo_ne07', 'neofkdj', 'KLightenUp', 'MariaClaraBove', 'MilasVideos', 'MrMadMoody', 'DreGreen01', 'umm_nia', 'Stevie_G_Wonder', 'Elmochloe123', 'dnd_retweets', 'PortCity_B', 'JoseppiAsoaw', 'k_lysey', 'SeanGPlays', 'atzallacatl', 'Jsmalls_17', 'colbertlateshow', 'LynneShasta40', 'katiesandrin', 'SalmaaBeg', 'FinnSkata', 'maggiesarah20', 'patrciagultom', 'creechmas', 'FanielShalean', 'cassiepasulka', 'anelimi', 'comingsoonnet', 'Cramerica1221', 'ryirq', 'MelaninCristy', 'frncsfriesx', 'NaturalGaz', 'CattieBrie1', 'fletchers_cat', 'jchadday', 'VMAN', 'DustyPlanet1', 'heavenonearth2', 'Gavin_Marsh_', 'ArlettyCastle', 'bellamarrone_', 'lindeman_blake', 'Rociio27_pm', 'denmerdelacruz', 'pariscity75', 'NickComando', 'flawlessbellark', 'myboysAtoZ', 'xyqutejiduke', 'sweetyhigh', 'cristyarevalo2', 'obrnxbtler', 'r3v0lv1ngd00r5', 'cinderhontabell', 'ughschnapp', 'HAlRRINGTON', 'clemenartz', 'ChiraqPlug', 'IntrovertedJo', 'DrTGIF', 'YoVenturaLA', 'comictubes', 'JuggaloNninBile', 'morgannlamb', 'elland_ian', 'BrickmastrEllie', 'mrsashamalla', 'queersucculent', 'SGaming37', 'harrysghostface', 'asitisnt_', 'sabcinart', 'CharlieReyes31', 'coolblood2', 'Halfons47', '_gabrielpicolo', 'SydOperaHouse', 'JanelleBalecha', 'edani', 'hanna_mcdermott', 'iainexplains', 'ISSAkermKERM', 'milevensmom', 'finntasticabby', 'Partaytoes', 'wasson_oscar', 'KijocudaKGArts', 'BayleBenjamin', 'TanRamTal', 'ShapeHouseLA', 'BrownShyGuy', 'ZackWolfS', 'KMarcusk73', 'otherxider', 'imartz94', 'brimil25', 'FunkoEurope', 'HyderAD19', 'reyana_rivera3', 'TheatreWithYou', 'hayesfan21', 'DoUntoYouself', '2TO8', 'Hill40Win', 'deancampbell21', 'usernametaken60', 'DBourlion', 'brittneydavis24', 'OriginalFunko', 'SWBF_Pegasus', 'hashi_cat', 'leo34chi', 'brooke_paws', 'ZamineNash', 'dragonsmith20', 'Dendur31', 'madslishy', 'ToyKlectrr', 'AimeeLeon84', 'josephdkeery', 'freaky_fred13', 'Pito1771', 'legamer3581', 'jiminsbian', 'abby_jones_77', 'hipsteranne_', 'laurabognrr', 'gambling46745', 'bamanboiVEVO', 'BB8_LittleDroid', 'TheFireArmorer', 'aburchs', 'lililabolita', 'CallMe_WildMan', 'coconuthead227', 'ledjai', 'ptx_karma', 'LordKlevar', 'JustVotinDavid5', 'raisingfangirls', 'TheEllenShow', 'moconekonyanko', 'queenofjohnson', 'FilmAndTVNerd', 'abombdzama', 'Gourdawg', 'NJA1965', 'jwood326966', 'rxginamiIfs', 'ShawnLevyDirect', 'sashughhh', 'SignyCullen', 'cheerpinionss', 'Flarcheur', 'fun2fancy', 'guestapodu28', 'kesmalindoHQ', 'Saleen_MartinTV', 'BENECILIN', 'nerdylifeofmine', 'projectkapiti', 'Gary3946', 'max_rainet', 'Campfirefox', 'Lavesq', 'kittywas', 'Addicted2Emison', 'AspiePuppy', 'ComputeBlu', 'jishymitchy', 'ethandlevy', 'TiffanieDMD', 'Shinen92', 'jfritzilla', 'RobinAWhite', 'andrayagp', 'OhohohoSanta', 'DeltanStudios', 'mrchadv', 'jdsntrr', 'dangerousally', 'MayaLoveSims', '_xanth', 'dgmolero', 'bonbonkayzee', '0kaliz', 'JerifCaban1', 'cbald120', 'ShotAtSerotonin', 'BLCAgnew', 'dantes_belmont', 'AlleBertoletti', 'vivianemarie_', 'BIGJACKV', 'floofyparker', 'QuoteGuilty', 'yabamena', 'verizon', 'CaitlynJensen18', 'dkinloch36', 'barceldvd', 'MikeScribbles', 'Madfrog01', 'bellerinkus', 'Nisperos17', 'saywhutelai', 'sonpu1', 'caliente_dolans', 'UghSchnappByers', 'toxicxjos', 'strangerdobrien', 'chloesawyer23', 'fijiwriter', '6BlackWolf17', 'PhotosofJam', 'crystalbell', '_annabellemitch', 'MonaLisa1797', 'NealyKenneth', 'strangerwriters', '_basicbitchin', 'Cristian6090', 'ppiixx', 'TheWrap', 'peta2', 'notjeanine', 'audrevide', 'zanmicron', 'JesusRolla1', 'tanyagrahamm', 'kdlc99', 'TIFF_NET', 'AClody', 'HotTopic', 'alyx_s21', 'JRD12345678910', 'togetherforlife', 'cooljulian5', 'BeckyStraub', 'Moltenheim', 'LanaNogueiraSz', 'manalsrhh', 'AggieTink', 'shaiiie', 'MatasGarca8', 'Panda_Boo18', 'wooden_train', 'sivartwyllie', 'Kaarii_Foytik', 'alltheonly', 'TryToWinSnapsde', 'TeePublic', 'FlameVibes', 'moonmeetsgirI', 'LifeIsStrange', 'BlessedZvy', 'kyleherring33', 'jmaer1', 'NoisyHannerz', 'veeeneeer', 'kevingallas', 'alexminisini', 'find_rlopezjr', 'Flo_1208', 'KamenRiderAngel', 'JamesUjjalEvans', 'MR_Lerone88', 'maerlyn99', 'CDewasme', 'happeecamper', 'kcchris34', 'DanSkippaa', 'JoseMariaGuinea', 'Shayblaizen', 'Aya2IM', 'MariadelCieloR7', 'NMangal25', 'SarahTrujillo4', 'BlockAEntertain', 'Grimes_Gurl', 'Slfl13', 'StrangerRey', 'kennefriggles', 'TonioLc', 'AyedOukhay', 'Wolfgang_The_Og', 'digital__junkie', 'UpsideDownFacts', 'EliseGravel', 'andymrtslv', 'lilacgasoline', '_DrewLane', 'LeslieMurtaza', 'nyttvla', 'NYRangers', 'koolkidice15', 'champagnehels', 'lorenzomigz26', 'sassy_cabeyo', 'Andrew_Simon96', 'nachanangari', 'RNDSiqueira', 'ughkassy', 'marcelaaven', 'firststatecomic', 'JCman8787', 'Naru_Fantasy', 'sandrineroustan', 'VittoriaKoinis', 'mightyMovies951', 'Pumpfake_Galaxy', 'Devonsmith27', 'NorthernChorus_', 'avonskidrauhls', 'lovespidyS2', 'spnstranger', 'AlexYt_soon', 'NicoleBryantxo', 'TailzScaly', 'Raiannstorm', 'CepeNicah', 'Epc79', 'hey_jude_67', 'LiamMcgovern12', 'nataliegduran_', 'TheFranchiseNJ', 'patdlucie', 'ST_trash_01', 'cutefinnbyers', 'billboard', 'AiemanAf', 'DomiMiles3', 'itsmecyrene__', 'ChrisHuxley72', 'wholeheartgeek', 'cw_abs', 'LobsterMason', 'MaxGarren', 'Aleighahopee', 'JoeBahan1995', 'memoriouis', 'SkullkidliamRbx', 'foodandfreud', '16_ceij', 'kj_x13', 'julias_bowtie', 'AcidKillerQueen', 'TheBigDog_YT', '_BetyChan_', 'IQbagus', 'b_contraptions', 'Grippesous13', 'zacksantagate', 'tucenbuosyn1977', 'DueceyOnTheMic', 'milliebbrown', 'zeatiara', 'CourtneyAnn1997', 'diabetus28', 'sbilemi', 'gettysburgfarm', 'immoreiconic', 'NewtyTheBeauty', 'batan_hannahE', '_AimeeElaine', 'xJubella', 'Intenzekg', 'Rayna_Jenkins', 'iRoberts3', 'NetflixANZ', 'tleigh619', 'BadIdeasPodcast', 'AClaudiabotton', 'mafaQuotes', 'rhegiesama', 'iNeedAbubble', 'RyandKing8', 'winterwolf_dc', '92Degrees', 'mostlymegan_', 'softfinnwlfhrd', 'tbrooksbank9', '_Devdogg_', 'lizziecabana', 'CadampogM', 'BlizzardOfRizz1', 'joe_keery', 'blackestgirl', 'Nolan_Smith__', 'infjnitelylarry', 'kaitlinkowalec', '_bqn_', 'zoe_king_5987', 'Tha1T_A_C', 'upsidylan', 'p4dme', 'videocopilot', 'Liamismylife_21', '_GhostyG', 'beta420', 'GalacticGay69', 'mrscole131', '_paleflower', 'itheezilla', '8bit_power_hour', 'TheTrueBrendanF', 'diamondgirljuli', 'kitty827', 'philbuni', 'TaquitoSexy', 'sebtatestan', 'XIBomberGiantIX', 'Nad81979', 'Azationie', 'arturo62470', 'TRILLWAVE23', 'xavinatorx', 'bhall43211', 'Haggs21', 'MyHepburn', 'Promoter_io', 'strangerthaangs', 'stageleftlauren', 'CoolToysUK', 'couponsletter', '8bitdigi', 'Jen_Jen_Scoobs', 'chestercat43690', 'Wreck_it_Rita', 'jenna_polhill', 'captorits', 'Redx66', 'GRAYS0NNS', 'zwolfluke', '_egggos', 'mariekate7', 'hailey_marie_p', 'viloplume', 'dewt2', 'karlaarmentar13', 'AGAWland', 'boredmarys', 'Jonathan_J_C', 'dacremontgomery', 'CocoHousel01', 'fractalgrace', 'kchantll', 'sdamante', 'RobCottingham', 'KatttRenee', 'NoahSchnapp', 'nerjawilms', 'kiaragraxia', 'mendesftbocas', 'jadeetecson', 'Salty_Swift', 'Jguzzy_lhro', 'AllyBrooke', 'Antman477', 'peachesanscream', 'TheAVClub', 'jimmykimmel', 'YSNR19SY', 'Pittsburgh_Cam', 'DevyDDraws', 'lesterstwinkles', 'fallinangelz21', 'NL15237432', 'Aqualaszun', 'SilentCrayfish', 'Psychodadjess16', 'HachieLife', 'soccersese23', '_theothercat', 'unit_londa', 'jycelmiruhh', 'ThePsychoNyx', 'anakngbuhay', 'lopezjohn639', 'Mattsanantone', 'katnissenpanem', 'mysoftlwt', 'jrd4xu1', 'DonaldSybrandt', 'UKBlog_RT', 'losersharts', 'VickyLauren_', 'TN_WINS', 'nise_dv', 'Travis_Brown33', 'KIMTOMIEE', 'DeviantArt', 'azukitz', 'samayyyyeee', 'IChandanSuman', 'jawxversus', 'Vince2402p', 'LakeshoreRecs', 'MelissaShepler0', 'Noah3Swift', 'JRadloff', 'colgilmc', 'KaiGreene', 'e1401', 'CarsonWS216', 'staceykhizder', 'FullofFrap', 'G_G_43', 'itsnotjania', 'AvaSupermann', 'gillian_shreve', 'feckinpenguins', 'PopCultureGame', '_Unagidon', 'FUNimation', 'millieaccess', 'Koberez', 'meganscrutonxx', 'Strastosfairik', 'catgelina', 'fditoespinal1', 'ReecePockney', 'tredicicomels', 'iamartreo', 'empukofficial', 'deadgrotty', 'EllaCassie', 'alexaaaviviana', 'actazipmo1989', 'CSUF_Baseball', 'nickynicole79', 'suga14233', 'Scarlettpuppie', 'Naruemon_ee', 'feze_salty', 'ClaireFraser01', 'masxncooper', 'BatmanRulz5', 'TheSerHumano', 'lauren_heiges', 'emma_lindemood', 'superbuffjohn', 'shawnslettersx', 'iStrangerThing', '_katieleeee', 'girl_resentful', 'mazur_lisa', 'rxginamilfs', 'wallyvids', 'thejmpineda', 'exinenec1981', 'nerdist', 'zoee_jayy', 'Lucieo_', 'sighfinnw', 'alexiscook04', 'lucy_ciopps', 'lauramirez24', 'xxcorndawgxx', 'lucas_parraa', '80srecord', 'DolphinPaige', 'DeeanneSander', 'alemor0614', 'tlcprincess', 'Keg0423', 'Sportsnet', 'Finns_Jack', 'olivegcwf', 'DTFrohman_', 'WeeAlastair', 'AliceWalker061', 'alexxaandre12', 'HotlineAvy', 'caxtu', 'dnaAfterHrs', 'JohnJohns4875', 'THR', 'JustJared', 'Jen0000028', 'luke224513', 'shininja08', 'monsterxfinn', 'LayDeeBuggAngel', 'diid10', 'camillepierce_', 'BSpodNetwork', 'skwhatake_', 'roseynoseamanda', 'DanaRevis1', 'deadlyturn1p', 'ElRincondDomive', 'bestdopevibes', 'ma7k1n', 'sandabi35', 'Djmj2016', 'QqhxlsnGJ4cVAfJ', 'overandover01', 'Thisfruta', '_rdwnsyh', 'ethan_mcgrane', 'KastnerTess', 'cobmister', 'stfhnshly', 'viri_idiana', 'madisonsantoss', 'A_Rodriguez_04', 'gingercatgames', 'CHermittant', 'wastedrxams', 'princessdee16_', 'LivDeGregorio', 'Courtney_Mackk', 'pk1026', 'veraexpress', 'MappalaG', 'TVLine', 'ItsmeEmily23', 'Erick_Turtle', 'Hawkins_Lab_US', 'wex1200', 'paleycenter', 'MiamiPapers', 'RjMitte', 'anjelahjohnson', 'lenazielke1', 'yangus_cool', 'julieplumdaigle', 'ArthinaRt', 'xmilliex_xo', 'jessiestaunton', 'laiandraadee09', 'BethelDlc', 'TR4SH_G0D', 'ScottSaxe3', 'LeiaKinney', 'screenidle', 'DrDisRespect', 'HashtagZoe', 'Tom_Dirico', '80serrorkid', 'LalitaELF', 'kchoy_choy', 'Leoswitnxss', 'korintje', 'holy_crappu', 'antopaz02', 'So_Many_Shows', 'Pandalian10', 'djdeatley', 'adidasoriginals', 'madamedo21', '_graeye', 'losersclubnoah', 'Grayson_hall2', 'carmel361310', 'iamNityananda', 'Antonieta_Dice', 'TimKSquared', 'Kensukete', 'SqueaksPower', 'matthewb4coates', 'Liz_DeJesus23', 'Teddocks', 'GammaRadioShow', 'christina112872', 'Let_itGO11', 'FunkoPOPFr', 'Alfonzowords', 'kenziep18', 'CoryGallaher', 'YE11IngEYE', 'Shea95Riley', '1VFXProductions', 'ChachaHealz', 'GingaNinja_1998', 'Lukas26702838', 'kylamyla01', 'blue_cynthia', 'GravityFalls888', 'GeekishlyApropo', 'dje_13013', 'fernand59007811', 'alpacajolote', 'JayJachin', 'PurplexMist', 'ethanb_25', 'AthonSchmidt', 'tara_nic00', 'SteadyGloed', 'younghollywood', 'qqqtwh', 'moureenperalta', 'ZacEfron', 'ceejayaz', 'RaminSubzero', 'Mgarza3764', '5762456Gina', 'Kaybearsally04', 'ManSpeeltGames', 'pulaskicoachjay', 'puggylover123', 'fuckdanderes', 'RealDAS_GOOD', 'StanAMollyFan', 'AlexisesTaylor', 'Mox_Eric', 'babiicrissays', 'turqish2515', 'basicgirl_____', 'teamjoey', 'HeartChansArt', 'timeywimey394', 'TheWells16', 'calebrmclaughl1', 'chrisb2239', 'griziiiii59120', 'Isaac36young', '327Hanger', 'platonicallyy', 'Uthgart', 'MikaeylaChetty', 'stephxsheaa', 'jundlife', 'WhoIsTiffIsMe', 'KingArunmozhi', 'CarmenPanther', 'LolaLariscy', 'DormantEcstacy', 'Trivilar', 'imgisellecrazo', 'Rks3555', 'pablolo96', 'MTV', 'Pelu_Osunkoya', 'Yara40069568', 'PattyCavallone', 'thatwylieguy91', 'andreprkso', 'fanypuspita', 'paboardman', 'kjksimpson', 'FeelMore49', 'gregdeezey', 'Comedyfan1095', 'babymaaaaaaaaar', 'Harleyasaurus', 'EisWinning', 'ShamelessSeries', 'kianlerr', 'benedict_tam', 'duds2299', 'sstoner612', 'corbinbleu', 'missmobius', 'dino_wit_issues', 'River_Horror', 'jjack_kelly', 'masyallahsis', 'xoxoallyray', 'ericalg26', 'WarpedBrothers', 'VersilJiha', 'UGOCblog', 'forevermileven2', 'reda_rami', 'giannachioccaa', 'McKennzziie', 'aesthetic_grids', 'NidaPeabadly', 'RotterLucas', 'aisyahmakhzan', 'Bosslogic', 'mel_a1323', 'lauragrace2418', 'jordannragerr', 'onehelluvapilot', 'Danyon1984', 'meccia23', 'Bulboh_', 'Gabriel02030925', 'Kid_FriendlyTV', 'Giffendulum', 'lewis3271', 'STZDUP', 'outsidelongbox', 'Snake3y3s00', 'LabontSarah', 'PDavis567', 'DianaVMosquera', 'Caballero_4', 'CheereeBird', 'leslieinlr', 'ShimmerChub', 'Deefster10k', 'jessicalivan', 'nottnottheonott', 'witnessphiIkas', 'kcoleman21372', '0804_melaimikki', 'AcidSnow', 'CPFOG', 'emilyyywaaade', 'jenx9000', 'Slay_Daya', 'DiChristine', 'schnapnoah', 'kalliekbs', 'Stranger_Things', 'LuzVale74881092', 'birneyfamily', 'dsanders337', 'Hans_Karl', 'apslalita', 'TheLimoa', 'karendenysee', 'TheQdotFM', 'tenrispoplar', 'Ian__Kenny', 'PratzStrike', 'gobeahero', 'PercyChekov', 'BlakeBowles6', 'joshlarue95', 'SteveOff', 'St0nersParadise', 'boognish_saves', 'getdarkpodcast', 'QueenGenesis_', 'djaussiekid', 'BarretWagner', 'squirttoledo', 'JasmineHassan22', 'Joejski', 'steph_xoxo10', 'MadrugadaGotica', 'SoltronSF', 'oldqueenshead', 'MarcFeleu', 'eriickkkkm', 'snapcrackleepop', 'Jewel_Mele', 'zachariatsmith', 'PapuIan', 'fuzzyitch', 'JayCyrne', 'Matthiouse80', 'morano_janrey', 'a_fresh1125', 'riley0455', 'robbierectioner', 'deb_on_mars', 'stephniebieber', 'AmusingTestAns', 'thedrunkendork', 'Redhot2067', 'crazyd120876', 'magicdel', 'HoopersPodcast', 'DrCreeperMC0318', 'Happy2BAlex', 'cilserolf', 'KryzInherente', 'BrownStoneMB', 'carolinalenadro', 'ironduuude', 'skyy_henley', '7eventeen_', 'Holfend_Revlis', 'montykaplan', 'NetflixUK', 'selenaglue', 'eternalriddler', '_Cody_Rogers', 'osheacull', 'favesprouse', 'bigboitrickn', 'TheFwoosh', 'mikasjeyes', 'getdeanpie', 'Faithh0602', 'natasharoastova', 'nappo_what', 'nerdpoop', '3lira1anahtar', 'erikaneal2', 'orphic_femme', 'VideogameIsArt', 'ChamberlynYT', 'Talisman66', 'GastonJade', 'MichaelOrioles', 'ST_Posts', 'justthebest1994', 'angelasurgenor1', 'DCJ97', 'chriswynn83', 'macy_mercer', 'jenkins_joe', 'pintofwine', 'LSelvar', 'art4mad', 'ChelseeIrving', 'SteelShadow13', 'TFIRetro', 'leonelalejo9', 'Gingy7891', 'rowlfhard', 'lottoloey', 'TallTreasure', 'sofi_coleman', 'Rui_Nicas', 'ineffablydun', 'GeekAaron', 'piafjs', 'sarah__ek', 'CleoCarrero', 'luxurydolans', 'MSU_QT', 'KatyRochelle', 'Bone_Fiish', 'Mrs5mith31', 'laura93203', 'AlyssaMeyers23', 'Theo_boirie', 'SpongebobMemory', 'therealandylamb', 'lgc20031', 'LaCroix_1972', 'gatenIII', 'VanHelsingFans', 'AdamPatrickBD', 'DanielMatellic', '_ViciousD', 'weannisley', 'bocaslosers', 'damian_jayne', 'sarovagamer', 'tayl0r_lett', 'jeremycbeck', 'onlywords1', 'iDelgado7', 'shesjoanmarie', 'calebmclaughlin', 'SHINeeB2STgirl', 'tvoy_blurryface', 'IAmTom95', 'chelseanva', 'lilboo322', 'NewPraetorians', 'VanCiseEvan', 'tozierbitch', 'SeWaldmann', 'justiney14', 'InfiniteSwagzz', 'FatherSk8boardB', 'woahailynn', 'cez_martinez', 'MattyIceD7', 'milliepbrown', 'SephBentos', 'Mad_Wargarita', 'AlanLahey', 'm_mahon', 'LuisRickyParker', 'Tommo_Carrots69', 'BrianTumblety', 'JuliD1977', 'Theveshin', 'blacksheep0310', 'nicolashognon', 'albobosaurus', 'UltraChamy', 'adidas', 'RyanReggad', 'AlexiaPaz99', 'louann_m_', 'FAguiree', 'clarkescluster', 'ThatAssian', 'FanFestNews', 'FlowARiverForth', 'maarrzzzz', 'howtgawmurder', 'VSAPRON', 'afirelovecng', 'malncheese', 'depordownca1982', 'NetflixLifee', '80sMoretz', 'AJaClay', 'GodZurvan', 'BendyBarp', 'kilerninjaking', 'Sunshinetoomuch', 'duagrandelipa', 'KoehlLucie', 'Nintendork9', 'Lil_Poindexter', 'Soff_CP', 'arclight', 'tubby051985', 'MattRaybin', 'moose4015657', 'kiwiio', 'WheelerWerks', 'DaniLovesKpop04', 'TheItMom', 'NewfieChic', 'JediB0y', 'ideas_micky', 'neilhimself', 'ValsNoisyToys', 'WiseWordsofTC', 'Montourspartan6', 'Pattylish82', 'ChiChiEzeokoli', 'ArielOverline', 'StrangerSofG', 'emilyyball', 'carmona_kid', 'edratliff2003', 'christian_heuft', 'taulbeejr31', 'divageeksto', 'MarkBix', 'whosIexie', 'strangerbyerss', 'TrueAntMan', 'onewaytckt', '_kate_baker_', 'Mother_Of_Jason', 'peachywoIfhard', 'DavidKHarbour', 'barizao_arthur', 'Nervospanda', 'j_minchella', 'AmakoAoki', 'strangerxstalk', 'MichelleChapa3', 'Sergio__Flores', 'EenGameGebouw', 'justakid_ok', '_SquirllyMan', 'ThaatGirlDaily', 'katyperry', 'ErnestoIsMyName', 'C13ments', 'shvrisse', 'tiger_pearll', '1HAPPYBOY', 'EW', 'emosharpay', 'ahbeexgee', 'Alex6_63', 'PromotionDx', 'amylynn969809', 'rizkak8ar', 'maliciousglee', 'ParkerPnard', 'thesportfanlife', 'CaptainA_011', 'shaIyssa', 'viv_tanner', '_slangers', 'hulkgr8', 'PamelaParkerSF', 'RachelColangelo', 'BornToD_ie', 'ImLizzieM', 'eqoteric', 'CindersCB', 'DisorderMag', 'kindasnowhite', 'fisher5559', 'memmem06', 'calebyerrs', 'RealTurtleMike', 'mTCSLQR1Vefinn', 'wafflethingz', 'abcdefshit', 'Waaverr', 'kleibscheidel', 'Tanner_3265', 'capnsammy', 'Sleekie_', 'tbr_itsjasmine', 'foreiberafter', 'disturbhoran', 'nataniamedeiros', 'jenmichelle_04', 'AWRecipes', 'Jsvenny', 'Lukecomaschi1', 'styIesbellamy', 'TomJDonaldson', 'garcimore34290', 'XureilaYT', 'xlucayasreignx', 'Kalli_Nicole134', 'Abdelnour_rek', 'TimeOfHollywood', 'jpasdoee', 'Sapricia', 'AdamBarry68', 'McelhoseJt', 'AGP50', 'BigDay180', 'Glitchiee', 'katietyer', 'Big_White_K', 'malachi_beii', '_SaiilingSouls', 'finnshbic', 'EoinClarke14', 'PaKo_RR', 'marinam99930684', 'Irri_0790', 'JDL8719', 'LOGANCRUSH3D', 'Pa3kCelap', 'ichigohollow710', 'stjimmy3000', 'youandi5sos', 'MarcoRojo04', 'Johann_rickoso', 'sylvanonoordam', 'D_sza', '21quest21', 'StarLordSwanson', 'JFKfuckedMonroe', 'itsmarisafool', 'ant_thomp9', 'vridaymyday', 'MjolnirMK86', 'KellyL0402', 'Otweetoh', 'shadowjago101', 'HardyBoyzBen', 'kikinoel2003', 'alyssaevelynxo', 'FappachinoLOL', 'svchelsx13', 'LB_VITAL', 'Ms_Jam_on_toast', 'AyelenChapay', 'tjg_rockGOD', 'Mandy19bil', 'fanpageszn', 'carsonswoosh12', 'spxcebug', 'BenThom1983', 'mystrongtini', 'pawislowa', 'vanishingftwill', 'blueenoughsky', 'curiouselev', 'Jorden_Miller', 'itss_niya1', 'mike_mellish', 'ColtroMaria', 'TarGroot', 'RafaelSarria', 'Creeppii', 'SpencerBClawson', '_JenniferRamos_', 'RossMcavoy', 'KPotterman', 'rackscarsass', 'frankparker', 'L4nc3_4_l0t', 'DalekWood', '588felix', 'psychotink_', 'jen_forever_lsu', 'yastineoliver', 'AverylMinori', 'BatDave93', 'evrythingknown', 'miirandoge', 'Amphe_Chantenay', 'jesiecastro', '1_TributePrior', 'AKMac96', 'watvson', 'miracleofsound', 'jmydale', 'G_style87', 'nballesteros79', 'ltnyx', 'HooBruce', 'zizo79', 'sharalonia', 'allibynight', 'Wolf0416_', 'wearefactoria', 'turnuptilsunup', 'fantinebrnch', 'TierraCeroBlog', 'kathyphamous', 'sweethoeney', 'MrsVoorhees', 'KathrynH440', 'Lisajolly98', 'MennaGoharyx', 'MikeStarletti', 'merkittyblog', 'scftmike', 'AstroRadioZ', 'thatguynick1983', 'THE__ELITE', 'Jesteer_101', 'niallcomeover', 'Senpau000', 'aslanzounder', 'murphman77', 'F1nncess', 'SachaDiapason', 'maxresist', 'happylover04', 'Lord_Malakite', 'LilMarkfnafking', 'm1cod1n', 'bwill_94', 'The_Random_boy5', 'The_Goonies7', 'Chuckfan2012', 'RealZwen', 'Taylordahsailor', 'orlysaurus', 'cramoukji', 'Awesome_Addy', 'Grlinasmallcafe', 'kellyk395', 'y_Yotecielo', 'comicguy007', 'ChuckieGreenE4', 'MatthewModine', 'forthewin76', 'Jacq2910', 'profgreeley', 'kirsty_at', 'm2graphics', 'plucckesi', 'DzinaHK', 'geeky_bookgirl', 'philwbayles', 'hsu90_n', 'tiny1209621', 'OGDevro', 'FlorianeLonghi', 'daniellemroyy', 'beatusfunko', 'loknea', 'harveytiss', 'sabrinasdyer', 'ChessmanUK', 'andrewjawesome', 'twitchesgobye', 'kaaaaylee', 'ElmoHicks', 'CourttLucente', 'K_Vandebogart', 'strangerdysal', 'Carly_Raee', 'Kryton', 'mayasgrande', 'STfanzine', 'spicybeanboy', 'MaggieWaggie16', 'Nine3eight', 'RADocCorrea', 'M4rk1t0k', 'andrea42200', 'lukemb334200', 'CindyTraining', 'AfinaSuhaimi', 'josecastro7756', 'celobuns', 'Skyisfalling88', 'SugaSpinner', 'isntit_2_dreamy', 'jaden_mellert', 'NesseLalunae', 'jankummings', 'MAINEac17', 'elacardenas31', 'sabelaacv', 'DoomKnight22', 'donaway_iii', 'armanddc', 'popiepng', 'rathe_richard', 'cellydrw', 'kindwheeler', 'hp_puffskein', 'Samtheflash15', 'fremenHood', 'mindsoda_95', 'DubayHilary', 'GirIsStyle', 'EVIL_CHICKEN31', 'wexet2', 'TIANIMALAVE', 'StrangerESP11', 'TRISTIAN120294', 'SarahBouchard97', 'BettGabrieli', 'TonyB301', 'teah_johnson', 'Hawk_Ky', 'sfincv', 'IssaLadiiKing', 'mohitsmartlove', '_ShinyLuxray_', 'red_hed24', 'AdobeAE', 'lumsdon_jessica', 'HuffPost', 'ellemichellew', 'BrocSteady', 'FuriousAsian', 'TheRandom_Hero', 'tristawade_', 'CassyRuddick', 'KeriEjustice', 'TaniaBentez6', 'bielcunha', 'itskadinsky', 'DollyEntrails', 'RicoJrCrea', 'Boyblue3000', '08barbiegirl', 'StarKidJue', 'bdiddyz', 'mrcrazykidz15', 'alberdi_Gamer', 'kim2119', 'DianaGo2218', 'hanisamirah__', 'vfch96', 'jamulmer', 'ZarbosTV', 'wastingmylife15', 'Jayjayfar', 'PeytonWich', 'joyride0609', 'catrin_george', 'loumona76', 'Batsethgames', 'tobvickody', 'mariluriru', 'SofiArab1', 'GatenM123', 'amaras_cine', 'mateo_thr', 'Salzbalz', 'valarmorghulish', 'BebeHottest', 'kelseyamberrxo', '_Adam0926', 'knighttravels', 'heyits_lexiee', 'SophieSophie112', 'Josh_Pearson_98', 'ives678', 'joshalow25', 'glassmike1332', 'Artes_Depressao', 'UPROXX', 'megaanduun', 'amh_317', 'premiumswift', 'Darian_Kelsey', 'TheDJCam', 'dududu10', 'SiscatKitchen', 'alex_b007', 'strangerkid03', 'AllCashDFS', 'LahTricee', 'Kayla_Publico', 'CRAZYMichael1', 'MadQueenCrafter', 'pinklightstick', 'Ma_AndreaC', 'ayleens4ever', 'ptxgloww', 'CRhodesSource', 'OM_English', 'cheetos4violet', 'NotJoshHeverin', 'chelseas1242', 'inakicada', 'MoreraLuis1', 'vinniec88', 'dabbading', 'kylelambert', 'realDonaldTrump', 'corpup', 'maxflowers', 'rafagadeleones', 'AkpataGinika', 'james6o', 'katloid', 'pumipat_pisit', 'Roe_bocop', 'Staincliffe12', 'mrzfndgn', 'gisedeca', 'BestOfBbalI', 'heezus12', 'linaromo_', 'Upstairs2dRight', 'LilMoodie_', 'gingerdancer99', 'NoelsC13', 'issakward', 'marusich', 'veneclicker', 'NHLonNBCSports', 'kelli_soto', 'Super_Sayan100', 'LadyButterflyph', 'gublerated', 'robinjacob031', 'B33lzebub_', 'migueIangeIox', 'tanmewp', 'Erik_DHdz', 'itzabby13', 'AbishaiCazarez', 'E_crimmins', 'metsandnesfan', 'JoHo1118', 'officialdaulton', 'ggb2k17', 'aiysceeanayes', 'AmoHeals', 'harrison_bone', 'ninefromars', 'NotSoRandomHero', 'Noemie___brl', 'geovanaLBBH', 'Claud808', 'SeanAstin', 'StensethNathan', 'GetinBZ', 'Bookworm13art', 'TheRealCoders', 'CortisElla', 'JessyBoruc', 'PaulieCare', 'oOmrOom', 'jilliansabrina_', 'j_doggta', 'yzyrnineteen', 'GoonKnuckles', 'kdonof10', 'tweetygamer3000', 'CryBaby022', 'XMenMovies', 'ericseals', 'WonderAabha', 'jimmyfallon', 'Jaazabut', 'DebbieBalboa', 'melanie_z0e', 'BnC_Wickie', 'cbmnguyen', 'Target', 'SpikeLSB', 'alonzo_52_21', 'MagicGamer', 'julianlytle', 'hawkins_things', 'pepprmintpotter', 'lygcabello', 'dadstevezine', 'messi10fcb54', 'GDaddy76', 'DanBickel54', 'Nebraska_Taylor', 'natueqs', 'schnappiex', 'ChrissyAtwell', 'me_jee_', 'Lou_AnneLMBRT', 'aurominq', 'chickenwinner11', 'JenT523', 'stjournal_', 'xxpxrytuw', 'miminecraftien', 'inspiration_hut', 'Izzie177', 'AmzSpiderMan', 'whinypissbaby', 'trhodes1007', 'siriathzengo', 'sy_put', 'Horseshoe132', 'bfikac', 'IronDudeOficial', 'KnightmareBeast', 'RetroBoyJon', 'LucasTizzano', 'strangerlorde', 'JFPlays84', 'rabihgh8', '_BenVic_', 'fauvet_elodie', 'Cyarine', 'phowell1313', 'worchow', 'ET_what_it_is', 'cellinfo66', 'Luna_Writer95', 'WALKYRIE1989', 'rodolfrg', 'TailorNichole', 'TaylorFrisb', 'itsSTquotes', '1Dbellarke', 'sarrypimpann', 'jeejeesun', 'SnowmanID', 'Sandvich_Hoovy', 'GoofyDawg13', 'monovar2', 'Michael_AWagner', 'JayS2S', 'DRAGONFLEUR1989', 'madgesimona', 'RayboyDesign', 'Icecub99', 'edwardiantaylor', 'MowMowPierre', 'Oceanouuu', 'analiz1704', 'dorris_ethan', 'MegaRan', 'KittenLexxMIW', 'coobieduwang', '_CALAVERAxvx', 'Rebecca_Rose87', 'B0b_Ross', 'JerseyNursey', 'nitTwit34', 'RM81_', 'AHuntant', 'shoeselk', 'ivyyraye', 'Soulraven77', 'ohheyrrosie', 'thewalkingmom82', 'galesnathaniel', 'CauseWereGlRLS', 'TwiztidBurt', 'Thabatha14', 'Cringe_A_Lot', 'loree_85', 'Dianthrax', 'RobinGrainger', 'thewaitsover', 'hamzahoumiza', 'lizziedizzie26', 'Ranzrik', 'Keyoz23', 'monoqueenmadi', 'CplinfoChandan', 'KylieRaddeaux', 'mydrunktweets_', 'STScenes', 'xxisayuno', 'Swagyy_c_', 'ConnorBurnett72', 'aerdnafif', 'kelyveez', 'MaaryHaro', 'dinahjane97', 'pennywisemalfoy', 'bbygxcesca', 'TCLipscomb', 'sephor_aaaaaa', 'David36237637', 'kaged640', 'tasyatelesqueen', 'ActiveGamerLife', 'BrantKeel', 'DawsonL7', 'mfhodges_', 'raptor_math', 'IndieWire', 'donroedel', 'iamHaiderRizvi', 'LissyPants', 'bangontarget', 'itsOTHquotes', 'reillyassali', 'souljahx6', 'Nachi3443', 'jvazquezsat', '83YEUN', 'DinerBear', 'ellieccampbelll', 'Robert__265', 'missadventurexx', 'OffPluginUpdate', 'erin_till', 'alinrapz', 'fashionabletech', 'NYLON_IND', 'trishalovesbks', '3CarryOnItems', 'akidearest', 'defconvibe', 'arairaiyeah', 'sherubi_senpai', 'CallmeBrune', 'Louna42483278', 'DressingCute', 'prasad84', 'ValleG22', 'Spotify', 'haydenth0mas', 'xoxmissjulie', 'cwolfem', 'rainydase86', 'ironmankink', 'MyHairEatsKids', 'TheCuredRebirth', 'maddyash2', 'jta0604', 'Peeta_buttaa', '_amurisy_', 'BooHooQ', 'Jane_Phillips', 'Nikaay93', 'karekareo', 'TDG3RD', 'FunkoFan01', 'mcluaghIins', 'Randolf_11', 'dont_look_left', 'LorianoIsabelle', 'Death_Eater_Esh', 'Rosiehsmith', 'KingOfTheThighs', 'Time_Ice_Bear', 'RicochetBlabit', 'AngryArtist113', '1AAAbattery', 'xinglicious', 'ryguy_games', 'Tomahawk69', 'Ctrlzaltdelete', 'cvgripps', 'OhBrokenMessage', 'USAUGUSTUS', 'fitzyball11', 'SantiagoCuarzo', 'wolfhardparker', 'JoeDiddy99', 'strangertfr', 'NilaSheehan', 'Dolli7', 'LaDona_', 'Tekles10', 'allymackenzie_', 'brune___blonde', 'shutupwolfhard', 'quarto217', 'defyallgravity', 'Npcn512', 'Robindeminuit', 'PaulReiser', 'Helenmayeilers0', 'MarvinAllie', 'Oldgragasjinx', 'cmg6767', 'no_god_no_pls', '_msmx3', 'JustinBustin016', 'Cakie_', 'Custmr_Sw3rvice', 'M16408109', 'Ukandifood', 'TheShoeBible', 'JackKaronika', 'shtooky', 'kbcaricatures', 'TheGarden', 'TheEggosBhatia', 'cynthiadunphy', 'ceeamparo', 'brbdentist1', 'BIGDAWGS610', 'Castle_in_CA', 'badrepgabby', 'vanxzs', 'Queendom_Of_Luv', 'Ashesh_M_J', 'crazyfbchick', 'Antardragon', 'justkaylabayla', 'EricRecla', 'IsaacDonovan222', 'lunacoombs', 'miah_piolo', 'Matiana_R', 'gaddemjosh', 'rebeccareyna927', 'Boring1986', 'geminigrl1985', 'ShooterJennings', 'jedizawa', 'CCroweFain', 'SofaArts', 'speedyslushy', 'StrxngelyI', 'aldodanielhered', 'kevkuriger', 'JessicaDevynn', 'sells_nic', 'realslickster', 'kidd_dias', 'espardemee', 'GeeksOfColor', 'twiztidskyy', 'iantofans', 'French_Kuu_Dere', 'AminZulkarnain', 'Ju_Breez', 'eaooSP', 'LEBRUNLola1', 'angeecr', 'MadisonShirley2', 'marknicoII', 'jag032', 'morrisseyheath', 'dantheman120894', 'Y_Tahimy', '_Sarahhh_7_', 'aguapatucate', 'JosephRezabek', 'TheTheWonderman', 'TakinADeuce', 'MutantMaRc', 'supa_ai', 'do_kyle', 'offlimitzzzz', 'Stef241030', '_Albita_mg', 'Sonic_456', 'firasweg', 'SpicyDoggo', 'WitherSlayer_3', 'cassidyy_11', 'bohemianizm', 'huertastisha', 'TheCakeNovelist', 'roley111', 'IISuperwomanII', 'B0B4F3TTswitch', 'the_timeliners', 'i_amwild', 'scrappnfan', 'shimmerjikook1', 'thewalkingyotes', 'sara_eaton17', '80sdeborah', 'William10302010', 'bri_benj719', '2012_dane', 'NathanSmith79', 'EddyCozmo', 'Tictactoetags', 'loliverious_', 'kydizzleex', 'LiamPayne', 'TheMindFlayerrr', 'Exocutioner13', 'Variety', 'alwaysrj', 'Stir33', '_laaycm', 'jadaacooper', 'AntMann1146', 'stageman12', 'SmallFranches_', 'GoAwayMrBaldo', 'Classymom6581', 'feyiadigun01', 'Owen_Townsend_', 'RosaCM9', 'kennnnedyxo', 'First_17', 'kyrsten_15', 'yoonleekorea', 'ThatWeirdGurlll', '17_realdealjd', 'woobiyang', 'texasartasylum', 'ThatKidSpanish', 'AmericanGodsSTZ', 'Little_star_boy', 'ZalfiePerrie', 'MrsMorales11', 'TheReal_EmTeeAy', 'ysminsuraya_', 'Blutman27UCLA', 'rtlbloggers', 'HeWhoIsParker', 'tdelgado222', 'Vincegeek', 'Buckholdtma', 'IMDb', 'giuliaabertuzzo', 'chromiumman', 'funsie_onesie', 'ZEBIEzebs', 'JillianBlair11', 'KarinaM32', 'emilygraham011', '_Nics_1994', 'SLSheltonAuthor', 'KS8CqF49Jrk96u6', 'Rebmocam', 'katerinegrier', 'Gladiator30n', 'nicoleequiro', 'real00life', 'DSilva_Ruiz', 'TimYoLoE', 'ZanyGeek', 'Limebrus', 'republic', 'sefraoui_jenna', 'ItsTheBSide', 'ComicConPod', 'EnderBro02', 'scarletgrace03', 'veronika_123__', 'Emricko720', 'teewolfhard', 'austin_brielle', 'antoninaoliverx', 'AliceBoudler', 'MileHighPopHunt', 'uncugly', 'NormaniKordei', 'Cassidyyyyy0902', 'BethannyL', 'ElectricStunts', 'RkSyrus', 'josecarlosmtzJR', 'mingz66', 'netflix', 'SaintPaapi', '_nurinhassan', 'Mritsunique', 'Lelouch182', 'CoolpopsArt', 'cine31', 'dtowlson7m3', 'neutraIist', 'katwomanfifi', 'ALaigre', 'Kayssiies', 'Lenisethmcs2_', 'Jairolo89', 'susanapinto70', 'god', 'Joshuft'))"
      ]
     },
     "execution_count": 13,
     "metadata": {},
     "output_type": "execute_result"
    }
   ],
   "source": [
    "G.nodes()"
   ]
  },
  {
   "cell_type": "code",
   "execution_count": 14,
   "metadata": {},
   "outputs": [],
   "source": [
    "import matplotlib\n",
    "import matplotlib.pyplot as plt\n",
    "matplotlib.rc(\"font\", family=\"Arial\")\n",
    "matplotlib.style.use(\"grayscale\")\n",
    "\n",
    "\n",
    "class dzcnap:\n",
    "  \n",
    "  def __init__(self):\n",
    "    self.attrs = {\n",
    "        \"edge_color\" : \"gray\",\n",
    "        \"edgecolors\" : \"black\", # For Networkx 2.0\n",
    "        \"linewidths\" : 1,       # For Networkx 2.0\n",
    "        \"font_family\" : \"Liberation Sans Narrow\",\n",
    "        \"font_size\" : 14,\n",
    "        \"node_color\" : \"pink\",\n",
    "        \"node_size\" : 700,\n",
    "        \"width\" : 2,\n",
    "    }\n",
    "    self.thick_attrs = self.attrs.copy()\n",
    "    self.thick_attrs[\"alpha\"] = 0.5\n",
    "    self.thick_attrs[\"width\"] = 15\n",
    "\n",
    "    self.small_attrs = self.attrs.copy()\n",
    "    self.small_attrs[\"node_size\"] = 50\n",
    "    self.small_attrs[\"font_size\"] = 10\n",
    "\n",
    "    self.medium_attrs = self.small_attrs.copy()\n",
    "    self.medium_attrs[\"node_size\"] = 250\n",
    "\n",
    "  def set_extent(self, positions, axes, title=None):\n",
    "      \"\"\"\n",
    "      Given node coordinates pos and the subplot,\n",
    "      calculate and set its extent.\n",
    "      \"\"\"\n",
    "      axes.tick_params(labelbottom=\"off\")\n",
    "      axes.tick_params(labelleft=\"off\")\n",
    "      if title:\n",
    "          axes.set_title(title)\n",
    "\n",
    "      x_values, y_values = zip(*positions.values())\n",
    "      x_max = max(x_values)\n",
    "      y_max = max(y_values)\n",
    "      x_min = min(x_values)\n",
    "      y_min = min(y_values)\n",
    "      x_margin = (x_max - x_min) * 0.1\n",
    "      y_margin = (y_max - y_min) * 0.1\n",
    "      try:\n",
    "          axes.set_xlim(x_min - x_margin, x_max + x_margin)\n",
    "          axes.set_ylim(y_min - y_margin, y_max + y_margin)\n",
    "      except AttributeError:\n",
    "          axes.xlim(x_min - x_margin, x_max + x_margin)\n",
    "          axes.ylim(y_min - y_margin, y_max + y_margin)\n",
    "\n",
    "  def plot(self, fname, save = False):\n",
    "      plt.tight_layout()\n",
    "      if save:\n",
    "          plt.savefig(\"../images/{}.pdf\".format(fname), dpi=600)\n",
    "      plt.show()"
   ]
  },
  {
   "cell_type": "code",
   "execution_count": 15,
   "metadata": {},
   "outputs": [],
   "source": [
    "import os\n",
    "os.getcwd()\n",
    "OUTPUT_DIR = '/Users/soumithri/Desktop/Projects/Thesis/output'\n",
    "df.to_csv(OUTPUT_DIR+'/tweets.csv', sep='|', encoding='utf-8', index=False)"
   ]
  },
  {
   "cell_type": "code",
   "execution_count": 16,
   "metadata": {},
   "outputs": [
    {
     "data": {
      "text/html": [
       "<div>\n",
       "<style scoped>\n",
       "    .dataframe tbody tr th:only-of-type {\n",
       "        vertical-align: middle;\n",
       "    }\n",
       "\n",
       "    .dataframe tbody tr th {\n",
       "        vertical-align: top;\n",
       "    }\n",
       "\n",
       "    .dataframe thead th {\n",
       "        text-align: right;\n",
       "    }\n",
       "</style>\n",
       "<table border=\"1\" class=\"dataframe\">\n",
       "  <thead>\n",
       "    <tr style=\"text-align: right;\">\n",
       "      <th></th>\n",
       "      <th>source_name</th>\n",
       "      <th>destination_name</th>\n",
       "      <th>link</th>\n",
       "    </tr>\n",
       "  </thead>\n",
       "  <tbody>\n",
       "    <tr>\n",
       "      <th>0</th>\n",
       "      <td>xxpxrytuw</td>\n",
       "      <td>OriginalFunko</td>\n",
       "      <td>retweet</td>\n",
       "    </tr>\n",
       "    <tr>\n",
       "      <th>1</th>\n",
       "      <td>xxpxrytuw</td>\n",
       "      <td>OriginalFunko</td>\n",
       "      <td>mention</td>\n",
       "    </tr>\n",
       "    <tr>\n",
       "      <th>2</th>\n",
       "      <td>xxpxrytuw</td>\n",
       "      <td>Target</td>\n",
       "      <td>mention</td>\n",
       "    </tr>\n",
       "    <tr>\n",
       "      <th>3</th>\n",
       "      <td>MichaelOrioles</td>\n",
       "      <td>OriginalFunko</td>\n",
       "      <td>retweet</td>\n",
       "    </tr>\n",
       "    <tr>\n",
       "      <th>4</th>\n",
       "      <td>MichaelOrioles</td>\n",
       "      <td>OriginalFunko</td>\n",
       "      <td>mention</td>\n",
       "    </tr>\n",
       "  </tbody>\n",
       "</table>\n",
       "</div>"
      ],
      "text/plain": [
       "      source_name destination_name     link\n",
       "0       xxpxrytuw    OriginalFunko  retweet\n",
       "1       xxpxrytuw    OriginalFunko  mention\n",
       "2       xxpxrytuw           Target  mention\n",
       "3  MichaelOrioles    OriginalFunko  retweet\n",
       "4  MichaelOrioles    OriginalFunko  mention"
      ]
     },
     "execution_count": 16,
     "metadata": {},
     "output_type": "execute_result"
    }
   ],
   "source": [
    "df1 = df[['source_name', 'destination_name', 'link']].copy()\n",
    "\n",
    "df1.head()"
   ]
  },
  {
   "cell_type": "code",
   "execution_count": 17,
   "metadata": {},
   "outputs": [],
   "source": [
    "df1.to_csv(OUTPUT_DIR+'/social_connections.csv', sep=',', encoding='utf-8', index=False)"
   ]
  },
  {
   "cell_type": "code",
   "execution_count": 20,
   "metadata": {
    "scrolled": true
   },
   "outputs": [],
   "source": [
    "df2 = df[['destination_id', 'destination_name']].rename(columns = {'destination_id' : 'Id',\n",
    "                                                                    'destination_name': 'Label'})"
   ]
  },
  {
   "cell_type": "code",
   "execution_count": 19,
   "metadata": {},
   "outputs": [
    {
     "data": {
      "text/html": [
       "<div>\n",
       "<style scoped>\n",
       "    .dataframe tbody tr th:only-of-type {\n",
       "        vertical-align: middle;\n",
       "    }\n",
       "\n",
       "    .dataframe tbody tr th {\n",
       "        vertical-align: top;\n",
       "    }\n",
       "\n",
       "    .dataframe thead th {\n",
       "        text-align: right;\n",
       "    }\n",
       "</style>\n",
       "<table border=\"1\" class=\"dataframe\">\n",
       "  <thead>\n",
       "    <tr style=\"text-align: right;\">\n",
       "      <th></th>\n",
       "      <th>tweet_id</th>\n",
       "      <th>created_at</th>\n",
       "      <th>text</th>\n",
       "      <th>lang</th>\n",
       "      <th>source_id</th>\n",
       "      <th>source_name</th>\n",
       "      <th>destination_id</th>\n",
       "      <th>destination_name</th>\n",
       "      <th>link</th>\n",
       "      <th>hashtag</th>\n",
       "    </tr>\n",
       "  </thead>\n",
       "  <tbody>\n",
       "    <tr>\n",
       "      <th>0</th>\n",
       "      <td>935833300077285376</td>\n",
       "      <td>Wed Nov 29 11:30:20 +0000 2017</td>\n",
       "      <td>RT @OriginalFunko: RT &amp;amp; follow @OriginalFu...</td>\n",
       "      <td>en</td>\n",
       "      <td>805159395344715776</td>\n",
       "      <td>xxpxrytuw</td>\n",
       "      <td>1378000488</td>\n",
       "      <td>OriginalFunko</td>\n",
       "      <td>retweet</td>\n",
       "      <td>[StrangerThings]</td>\n",
       "    </tr>\n",
       "    <tr>\n",
       "      <th>1</th>\n",
       "      <td>935833300077285376</td>\n",
       "      <td>Wed Nov 29 11:30:20 +0000 2017</td>\n",
       "      <td>RT @OriginalFunko: RT &amp;amp; follow @OriginalFu...</td>\n",
       "      <td>en</td>\n",
       "      <td>805159395344715776</td>\n",
       "      <td>xxpxrytuw</td>\n",
       "      <td>1378000488</td>\n",
       "      <td>OriginalFunko</td>\n",
       "      <td>mention</td>\n",
       "      <td>[StrangerThings]</td>\n",
       "    </tr>\n",
       "    <tr>\n",
       "      <th>2</th>\n",
       "      <td>935833300077285376</td>\n",
       "      <td>Wed Nov 29 11:30:20 +0000 2017</td>\n",
       "      <td>RT @OriginalFunko: RT &amp;amp; follow @OriginalFu...</td>\n",
       "      <td>en</td>\n",
       "      <td>805159395344715776</td>\n",
       "      <td>xxpxrytuw</td>\n",
       "      <td>89084561</td>\n",
       "      <td>Target</td>\n",
       "      <td>mention</td>\n",
       "      <td>[StrangerThings]</td>\n",
       "    </tr>\n",
       "    <tr>\n",
       "      <th>3</th>\n",
       "      <td>935833395241865216</td>\n",
       "      <td>Wed Nov 29 11:30:43 +0000 2017</td>\n",
       "      <td>RT @OriginalFunko: RT &amp;amp; follow @OriginalFu...</td>\n",
       "      <td>en</td>\n",
       "      <td>600628878</td>\n",
       "      <td>MichaelOrioles</td>\n",
       "      <td>1378000488</td>\n",
       "      <td>OriginalFunko</td>\n",
       "      <td>retweet</td>\n",
       "      <td>[StrangerThings]</td>\n",
       "    </tr>\n",
       "    <tr>\n",
       "      <th>4</th>\n",
       "      <td>935833395241865216</td>\n",
       "      <td>Wed Nov 29 11:30:43 +0000 2017</td>\n",
       "      <td>RT @OriginalFunko: RT &amp;amp; follow @OriginalFu...</td>\n",
       "      <td>en</td>\n",
       "      <td>600628878</td>\n",
       "      <td>MichaelOrioles</td>\n",
       "      <td>1378000488</td>\n",
       "      <td>OriginalFunko</td>\n",
       "      <td>mention</td>\n",
       "      <td>[StrangerThings]</td>\n",
       "    </tr>\n",
       "  </tbody>\n",
       "</table>\n",
       "</div>"
      ],
      "text/plain": [
       "             tweet_id                      created_at  \\\n",
       "0  935833300077285376  Wed Nov 29 11:30:20 +0000 2017   \n",
       "1  935833300077285376  Wed Nov 29 11:30:20 +0000 2017   \n",
       "2  935833300077285376  Wed Nov 29 11:30:20 +0000 2017   \n",
       "3  935833395241865216  Wed Nov 29 11:30:43 +0000 2017   \n",
       "4  935833395241865216  Wed Nov 29 11:30:43 +0000 2017   \n",
       "\n",
       "                                                text lang           source_id  \\\n",
       "0  RT @OriginalFunko: RT &amp; follow @OriginalFu...   en  805159395344715776   \n",
       "1  RT @OriginalFunko: RT &amp; follow @OriginalFu...   en  805159395344715776   \n",
       "2  RT @OriginalFunko: RT &amp; follow @OriginalFu...   en  805159395344715776   \n",
       "3  RT @OriginalFunko: RT &amp; follow @OriginalFu...   en           600628878   \n",
       "4  RT @OriginalFunko: RT &amp; follow @OriginalFu...   en           600628878   \n",
       "\n",
       "      source_name destination_id destination_name     link           hashtag  \n",
       "0       xxpxrytuw     1378000488    OriginalFunko  retweet  [StrangerThings]  \n",
       "1       xxpxrytuw     1378000488    OriginalFunko  mention  [StrangerThings]  \n",
       "2       xxpxrytuw       89084561           Target  mention  [StrangerThings]  \n",
       "3  MichaelOrioles     1378000488    OriginalFunko  retweet  [StrangerThings]  \n",
       "4  MichaelOrioles     1378000488    OriginalFunko  mention  [StrangerThings]  "
      ]
     },
     "execution_count": 19,
     "metadata": {},
     "output_type": "execute_result"
    }
   ],
   "source": [
    "df3 = df[['source_id', 'source_name']].rename(columns = {'source_id': 'Id', 'source_name': 'Labe'})"
   ]
  },
  {
   "cell_type": "code",
   "execution_count": 95,
   "metadata": {},
   "outputs": [],
   "source": [
    "nodes_df.drop_duplicates(keep=False).to_csv(OUTPUT_DIR+'/nodes_list2.csv', sep=',', encoding='utf-8', index=False)"
   ]
  },
  {
   "cell_type": "code",
   "execution_count": 96,
   "metadata": {},
   "outputs": [],
   "source": [
    "edges_df.drop_duplicates(keep=False).to_csv(OUTPUT_DIR+'/edges_list2.csv', sep=',', encoding='utf-8', index=False)"
   ]
  },
  {
   "cell_type": "code",
   "execution_count": 98,
   "metadata": {},
   "outputs": [
    {
     "data": {
      "text/plain": [
       "30745"
      ]
     },
     "execution_count": 98,
     "metadata": {},
     "output_type": "execute_result"
    }
   ],
   "source": [
    "len(nodes_df.drop_duplicates(keep=False))"
   ]
  },
  {
   "cell_type": "code",
   "execution_count": 88,
   "metadata": {},
   "outputs": [
    {
     "data": {
      "text/html": [
       "<div>\n",
       "<style scoped>\n",
       "    .dataframe tbody tr th:only-of-type {\n",
       "        vertical-align: middle;\n",
       "    }\n",
       "\n",
       "    .dataframe tbody tr th {\n",
       "        vertical-align: top;\n",
       "    }\n",
       "\n",
       "    .dataframe thead th {\n",
       "        text-align: right;\n",
       "    }\n",
       "</style>\n",
       "<table border=\"1\" class=\"dataframe\">\n",
       "  <thead>\n",
       "    <tr style=\"text-align: right;\">\n",
       "      <th></th>\n",
       "      <th>Source</th>\n",
       "      <th>Target</th>\n",
       "      <th>Type</th>\n",
       "      <th>Link</th>\n",
       "      <th>Weight</th>\n",
       "    </tr>\n",
       "  </thead>\n",
       "  <tbody>\n",
       "    <tr>\n",
       "      <th>0</th>\n",
       "      <td>805159395344715776</td>\n",
       "      <td>1378000488</td>\n",
       "      <td>directed</td>\n",
       "      <td>retweet</td>\n",
       "      <td>Null</td>\n",
       "    </tr>\n",
       "    <tr>\n",
       "      <th>1</th>\n",
       "      <td>600628878</td>\n",
       "      <td>1378000488</td>\n",
       "      <td>directed</td>\n",
       "      <td>retweet</td>\n",
       "      <td>Null</td>\n",
       "    </tr>\n",
       "    <tr>\n",
       "      <th>2</th>\n",
       "      <td>167601885</td>\n",
       "      <td>1378000488</td>\n",
       "      <td>directed</td>\n",
       "      <td>retweet</td>\n",
       "      <td>Null</td>\n",
       "    </tr>\n",
       "    <tr>\n",
       "      <th>3</th>\n",
       "      <td>30532546</td>\n",
       "      <td>1378000488</td>\n",
       "      <td>directed</td>\n",
       "      <td>retweet</td>\n",
       "      <td>Null</td>\n",
       "    </tr>\n",
       "    <tr>\n",
       "      <th>4</th>\n",
       "      <td>2482748221</td>\n",
       "      <td>1378000488</td>\n",
       "      <td>directed</td>\n",
       "      <td>retweet</td>\n",
       "      <td>Null</td>\n",
       "    </tr>\n",
       "  </tbody>\n",
       "</table>\n",
       "</div>"
      ],
      "text/plain": [
       "               Source      Target      Type     Link Weight\n",
       "0  805159395344715776  1378000488  directed  retweet   Null\n",
       "1           600628878  1378000488  directed  retweet   Null\n",
       "2           167601885  1378000488  directed  retweet   Null\n",
       "3            30532546  1378000488  directed  retweet   Null\n",
       "4          2482748221  1378000488  directed  retweet   Null"
      ]
     },
     "execution_count": 88,
     "metadata": {},
     "output_type": "execute_result"
    }
   ],
   "source": [
    "edges_df.head().drop_duplicates()"
   ]
  },
  {
   "cell_type": "code",
   "execution_count": null,
   "metadata": {},
   "outputs": [],
   "source": []
  }
 ],
 "metadata": {
  "kernelspec": {
   "display_name": "Python 3",
   "language": "python",
   "name": "python3"
  },
  "language_info": {
   "codemirror_mode": {
    "name": "ipython",
    "version": 3
   },
   "file_extension": ".py",
   "mimetype": "text/x-python",
   "name": "python",
   "nbconvert_exporter": "python",
   "pygments_lexer": "ipython3",
   "version": "3.5.2"
  }
 },
 "nbformat": 4,
 "nbformat_minor": 2
}
