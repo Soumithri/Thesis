{
 "cells": [
  {
   "cell_type": "markdown",
   "metadata": {},
   "source": [
    "# Community Detection Using Stranger Things Dataset"
   ]
  },
  {
   "cell_type": "markdown",
   "metadata": {},
   "source": [
    "## 1. Import the necessary libraries\n"
   ]
  },
  {
   "cell_type": "code",
   "execution_count": 1,
   "metadata": {},
   "outputs": [],
   "source": [
    "import networkx as nx\n",
    "import pandas as pd\n",
    "import random\n",
    "import itertools\n",
    "import matplotlib.pyplot as plt"
   ]
  },
  {
   "cell_type": "code",
   "execution_count": 2,
   "metadata": {},
   "outputs": [],
   "source": [
    "%matplotlib inline\n",
    "random.seed(1)"
   ]
  },
  {
   "cell_type": "markdown",
   "metadata": {},
   "source": [
    "## 2. Read the GraphML file into NetworkX library"
   ]
  },
  {
   "cell_type": "code",
   "execution_count": 3,
   "metadata": {},
   "outputs": [
    {
     "data": {
      "text/plain": [
       "'Name: \\nType: DiGraph\\nNumber of nodes: 1969\\nNumber of edges: 457\\nAverage in degree:   0.2321\\nAverage out degree:   0.2321'"
      ]
     },
     "execution_count": 3,
     "metadata": {},
     "output_type": "execute_result"
    }
   ],
   "source": [
    "graph = nx.read_graphml('StrangerThings.graphml')\n",
    "nx.info(graph)"
   ]
  },
  {
   "cell_type": "markdown",
   "metadata": {},
   "source": [
    "## 3. Remove isolated nodes in the graph"
   ]
  },
  {
   "cell_type": "code",
   "execution_count": 4,
   "metadata": {},
   "outputs": [
    {
     "name": "stdout",
     "output_type": "stream",
     "text": [
      "Name: \n",
      "Type: DiGraph\n",
      "Number of nodes: 1969\n",
      "Number of edges: 457\n",
      "Average in degree:   0.2321\n",
      "Average out degree:   0.2321\n",
      "\n",
      "Isolated nodes: 1592\n",
      "\n",
      "removing isolated nodes...\n",
      "\n",
      "Name: \n",
      "Type: DiGraph\n",
      "Number of nodes: 377\n",
      "Number of edges: 457\n",
      "Average in degree:   1.2122\n",
      "Average out degree:   1.2122\n"
     ]
    }
   ],
   "source": [
    "def remove_isolated_nodes(G):\n",
    "    print(nx.info(G))\n",
    "    isolated_nodes = list(nx.isolates(G))\n",
    "    print('\\nIsolated nodes: {}\\n'.format(len(isolated_nodes)))\n",
    "    print('removing isolated nodes...\\n')\n",
    "    G.remove_nodes_from(isolated_nodes)\n",
    "    print(nx.info(G))\n",
    "    return G\n",
    "\n",
    "graph = remove_isolated_nodes(graph)"
   ]
  },
  {
   "cell_type": "code",
   "execution_count": 5,
   "metadata": {},
   "outputs": [],
   "source": [
    "# Plot the graph\n",
    "# d = dict(graph.degree)\n",
    "# options = {\n",
    "#     'node_color': 'red',\n",
    "#     'node_size': [v * 100 for v in d.values()],\n",
    "#     'line_color': 'black',\n",
    "#     'linewidths': 5,\n",
    "#     'font_size': 25,\n",
    "#     'width': 0.5,\n",
    "#     'label': 'Zachary Karate Club'\n",
    "# }\n",
    "\n",
    "# plt.rcParams['figure.figsize'] = [50, 50]\n",
    "# subgraph = nx.subgraph(graph, nbunch=list(graph.nodes())[:50])\n",
    "# nx.draw_networkx(subgraph, pos = nx.spring_layout(subgraph), with_labels=True, **options)"
   ]
  },
  {
   "cell_type": "code",
   "execution_count": 6,
   "metadata": {},
   "outputs": [],
   "source": [
    "# Add weights to networkx graph\n",
    "degree_list = ['retweet_count', 'mention_count', 'reply_count', 'quote_count']\n",
    "attrs = {}\n",
    "for (node1,node2,*data) in graph.edges(data=True):\n",
    "    weight = sum([value for key, value in data[0].items() if key in degree_list])\n",
    "    attrs[(node1, node2)] = {'weight': weight}\n",
    "nx.set_edge_attributes(graph, attrs)\n",
    "\n",
    "nx.write_graphml(graph, 'strangerthings.graphml')"
   ]
  },
  {
   "cell_type": "markdown",
   "metadata": {},
   "source": [
    "## 4. Implement CD algorithms"
   ]
  },
  {
   "cell_type": "code",
   "execution_count": 7,
   "metadata": {},
   "outputs": [],
   "source": [
    "# Define all community Detection Algorithms\n",
    "from igraph import *\n",
    "\n",
    "class Communities:\n",
    "    \n",
    "    def __init__(self, graph):\n",
    "        self.G = graph\n",
    "        #self.G = self.remove_self_loops(self.G)\n",
    "        \n",
    "    def describe(self, comms):\n",
    "        print('Number of nodes: ', self.G.vcount())\n",
    "        print('Number of edges: ', self.G.ecount())\n",
    "        print(describe(self.G))\n",
    "            \n",
    "    def remove_self_loops(self, weights=None):\n",
    "        # If graph has self-loops, remove the self-loops\n",
    "        if not self.G.is_simple():\n",
    "            self.G = self.G.simplify(loops = True, multiple = True, \n",
    "                                     combine_edges = dict(weight=weights))\n",
    "        return self.G\n",
    "            \n",
    "    \n",
    "    def convert_to_undirected(self, g, weights=None):\n",
    "        # If graph is directed, convert to undirected\n",
    "        #print(summary(g))\n",
    "        if g.is_directed():\n",
    "            g =  g.as_undirected(mode = 'collapse', combine_edges = \"sum\")\n",
    "        return g\n",
    "    \n",
    "    def fast_greedy(self, weights=None):\n",
    "        g = self.G.copy()\n",
    "        g = self.convert_to_undirected(g)\n",
    "        summary(g)\n",
    "        comms = g.community_fastgreedy(weights=weights)\n",
    "        print('Number of communities: ', comms.optimal_count)\n",
    "        return comms\n",
    "    \n",
    "    def edge_betweenness(self, weights=None):\n",
    "        g = self.G.copy()\n",
    "        comms = g.community_edge_betweenness(clusters=None, directed=True, weights=weights)\n",
    "        print('Number of communities: ', comms.optimal_count)\n",
    "        return comms\n",
    "    \n",
    "    def infomap(self, edge_weights=None, vertex_weights=None, trials=10):\n",
    "        g = self.G.copy()\n",
    "        comms = g.community_infomap(edge_weights=edge_weights, vertex_weights=vertex_weights, trials=10)\n",
    "        print('Number of communities: ', comms._len)\n",
    "        return comms\n",
    "    \n",
    "    def label_propagation(self, weights=None, initial=None, fixed=None):\n",
    "        g = self.G.copy()\n",
    "        comms = g.community_label_propagation(weights=weights, initial=initial, fixed=fixed)\n",
    "        print('Number of communities: ', comms._len)\n",
    "        return comms\n",
    "    \n",
    "    def leading_eigen_vector(self, clusters=-1, arpack_options=None, weights=None):\n",
    "        g = self.G.copy()\n",
    "        g = self.convert_to_undirected(g)\n",
    "        comms = g.community_leading_eigenvector(clusters=clusters, arpack_options=arpack_options, weights=weights)\n",
    "        print('Number of communities: ', comms._len)\n",
    "        return comms\n",
    "    \n",
    "    def multilevel(self, weights=None, return_levels=True):\n",
    "        g = self.G.copy()\n",
    "        g = self.convert_to_undirected(g)\n",
    "        summary(g)\n",
    "        #print(summary(g))\n",
    "        comms = g.community_multilevel(weights=weights, return_levels=return_levels)\n",
    "        print('Number of communities: ', len(comms))\n",
    "        return comms\n",
    "    \n",
    "    def optimal_modularity(self, weights=None):\n",
    "        g = self.G.copy()\n",
    "        g = self.convert_to_undirected(g)\n",
    "        print(summary(g))\n",
    "        #g = self.convert_to_undirected(g)\n",
    "        #print(summary(g))\n",
    "        comms = g.community_optimal_modularity(weights=weights)\n",
    "        print('Number of communities: ', comms._len)\n",
    "        return comms\n",
    "    \n",
    "    def spinglass(self, weights=None, spins=25, parupdate=False, start_temp=1, stop_temp=0.01,\n",
    "                  cool_fact=0.99, update_rule=\"simple\", gamma=1, implementation=\"orig\"):\n",
    "        g = self.G.copy()\n",
    "        comms = g.community_spinglass(weights=weights, spins=spins, parupdate=parupdate, start_temp=start_temp,\n",
    "                                     stop_temp=stop_temp, cool_fact=cool_fact, update_rule=update_rule, gamma=gamma,\n",
    "                                     implementation=implementation)\n",
    "        print('Number of communities: ', comms._len)\n",
    "        return comms\n",
    "    \n",
    "    \n",
    "    def walktrap(self, weights=None, steps=4):\n",
    "        g = self.G.copy()\n",
    "        #g = self.convert_to_undirected(g)\n",
    "        summary(g)\n",
    "        comms = g.community_walktrap(weights=weights, steps=steps)\n",
    "        print('Number of communities: ', comms.optimal_count)\n",
    "        return comms\n",
    "        \n",
    "    def louvain(self):\n",
    "        # TO DO: use python-louvain to implement louvain algorithm\n",
    "        pass\n",
    "    \n",
    "    def leiden(self):\n",
    "        # TO DO: use python-leidenalg to implement louvain algorithm\n",
    "        pass\n",
    "    \n",
    "    def plot_communities(self, comms):\n",
    "        visual_style = {}\n",
    "        visual_style[\"vertex_size\"] = 10\n",
    "        #visual_style[\"vertex_label\"] = graph.vs[\"id\"]\n",
    "        visual_style['edge_arrow_size'] = 0.5\n",
    "        visual_style[\"layout\"] = self.G.layout('fr')\n",
    "        plot(comms, **visual_style)"
   ]
  },
  {
   "cell_type": "markdown",
   "metadata": {},
   "source": [
    "## 4.1. Plot the network"
   ]
  },
  {
   "cell_type": "code",
   "execution_count": 8,
   "metadata": {},
   "outputs": [
    {
     "name": "stdout",
     "output_type": "stream",
     "text": [
      "IGRAPH D-W- 377 457 -- \n",
      "+ attr: create_time (v), id (v), create_time (e), mention_count (e), quote_count (e), reply_count (e), retweet_count (e), weight (e)\n"
     ]
    },
    {
     "ename": "TypeError",
     "evalue": "plotting not available",
     "output_type": "error",
     "traceback": [
      "\u001b[0;31m---------------------------------------------------------------------------\u001b[0m",
      "\u001b[0;31mTypeError\u001b[0m                                 Traceback (most recent call last)",
      "\u001b[0;32m<ipython-input-8-6d8d380a25fd>\u001b[0m in \u001b[0;36m<module>\u001b[0;34m\u001b[0m\n\u001b[1;32m      7\u001b[0m \u001b[0mvisual_style\u001b[0m\u001b[0;34m[\u001b[0m\u001b[0;34m'edge_arrow_size'\u001b[0m\u001b[0;34m]\u001b[0m \u001b[0;34m=\u001b[0m \u001b[0;36m0.5\u001b[0m\u001b[0;34m\u001b[0m\u001b[0;34m\u001b[0m\u001b[0m\n\u001b[1;32m      8\u001b[0m \u001b[0mvisual_style\u001b[0m\u001b[0;34m[\u001b[0m\u001b[0;34m\"layout\"\u001b[0m\u001b[0;34m]\u001b[0m \u001b[0;34m=\u001b[0m \u001b[0mgraph\u001b[0m\u001b[0;34m.\u001b[0m\u001b[0mlayout\u001b[0m\u001b[0;34m(\u001b[0m\u001b[0;34m'fr'\u001b[0m\u001b[0;34m)\u001b[0m\u001b[0;34m\u001b[0m\u001b[0;34m\u001b[0m\u001b[0m\n\u001b[0;32m----> 9\u001b[0;31m \u001b[0mplot\u001b[0m\u001b[0;34m(\u001b[0m\u001b[0mgraph\u001b[0m\u001b[0;34m,\u001b[0m \u001b[0mmark_groups\u001b[0m\u001b[0;34m=\u001b[0m\u001b[0;32mTrue\u001b[0m\u001b[0;34m,\u001b[0m \u001b[0;34m**\u001b[0m\u001b[0mvisual_style\u001b[0m\u001b[0;34m)\u001b[0m\u001b[0;34m\u001b[0m\u001b[0;34m\u001b[0m\u001b[0m\n\u001b[0m",
      "\u001b[0;32m~/.local/share/virtualenvs/Thesis-cQCF3LGF/lib/python3.7/site-packages/igraph/drawing/__init__.py\u001b[0m in \u001b[0;36mplot\u001b[0;34m(obj, target, bbox, *args, **kwds)\u001b[0m\n\u001b[1;32m    444\u001b[0m         \u001b[0mbbox\u001b[0m \u001b[0;34m=\u001b[0m \u001b[0mBoundingBox\u001b[0m\u001b[0;34m(\u001b[0m\u001b[0mbbox\u001b[0m\u001b[0;34m)\u001b[0m\u001b[0;34m\u001b[0m\u001b[0;34m\u001b[0m\u001b[0m\n\u001b[1;32m    445\u001b[0m \u001b[0;34m\u001b[0m\u001b[0m\n\u001b[0;32m--> 446\u001b[0;31m     \u001b[0mresult\u001b[0m \u001b[0;34m=\u001b[0m \u001b[0mPlot\u001b[0m\u001b[0;34m(\u001b[0m\u001b[0mtarget\u001b[0m\u001b[0;34m,\u001b[0m \u001b[0mbbox\u001b[0m\u001b[0;34m,\u001b[0m \u001b[0mbackground\u001b[0m\u001b[0;34m=\u001b[0m\u001b[0mkwds\u001b[0m\u001b[0;34m.\u001b[0m\u001b[0mget\u001b[0m\u001b[0;34m(\u001b[0m\u001b[0;34m\"background\"\u001b[0m\u001b[0;34m,\u001b[0m \u001b[0;34m\"white\"\u001b[0m\u001b[0;34m)\u001b[0m\u001b[0;34m)\u001b[0m\u001b[0;34m\u001b[0m\u001b[0;34m\u001b[0m\u001b[0m\n\u001b[0m\u001b[1;32m    447\u001b[0m \u001b[0;34m\u001b[0m\u001b[0m\n\u001b[1;32m    448\u001b[0m     \u001b[0;32mif\u001b[0m \u001b[0;34m\"margin\"\u001b[0m \u001b[0;32min\u001b[0m \u001b[0mkwds\u001b[0m\u001b[0;34m:\u001b[0m\u001b[0;34m\u001b[0m\u001b[0;34m\u001b[0m\u001b[0m\n",
      "\u001b[0;32m~/.local/share/virtualenvs/Thesis-cQCF3LGF/lib/python3.7/site-packages/igraph/drawing/__init__.py\u001b[0m in \u001b[0;36m__init__\u001b[0;34m(self, target, bbox, palette, background)\u001b[0m\n\u001b[1;32m    115\u001b[0m         \"\"\"\n\u001b[1;32m    116\u001b[0m         \u001b[0mself\u001b[0m\u001b[0;34m.\u001b[0m\u001b[0m_filename\u001b[0m \u001b[0;34m=\u001b[0m \u001b[0;32mNone\u001b[0m\u001b[0;34m\u001b[0m\u001b[0;34m\u001b[0m\u001b[0m\n\u001b[0;32m--> 117\u001b[0;31m         \u001b[0mself\u001b[0m\u001b[0;34m.\u001b[0m\u001b[0m_surface_was_created\u001b[0m \u001b[0;34m=\u001b[0m \u001b[0;32mnot\u001b[0m \u001b[0misinstance\u001b[0m\u001b[0;34m(\u001b[0m\u001b[0mtarget\u001b[0m\u001b[0;34m,\u001b[0m \u001b[0mcairo\u001b[0m\u001b[0;34m.\u001b[0m\u001b[0mSurface\u001b[0m\u001b[0;34m)\u001b[0m\u001b[0;34m\u001b[0m\u001b[0;34m\u001b[0m\u001b[0m\n\u001b[0m\u001b[1;32m    118\u001b[0m         \u001b[0mself\u001b[0m\u001b[0;34m.\u001b[0m\u001b[0m_need_tmpfile\u001b[0m \u001b[0;34m=\u001b[0m \u001b[0;32mFalse\u001b[0m\u001b[0;34m\u001b[0m\u001b[0;34m\u001b[0m\u001b[0m\n\u001b[1;32m    119\u001b[0m \u001b[0;34m\u001b[0m\u001b[0m\n",
      "\u001b[0;32m~/.local/share/virtualenvs/Thesis-cQCF3LGF/lib/python3.7/site-packages/igraph/drawing/utils.py\u001b[0m in \u001b[0;36m__getattr__\u001b[0;34m(self, _)\u001b[0m\n\u001b[1;32m    394\u001b[0m \u001b[0;34m\u001b[0m\u001b[0m\n\u001b[1;32m    395\u001b[0m     \u001b[0;32mdef\u001b[0m \u001b[0m__getattr__\u001b[0m\u001b[0;34m(\u001b[0m\u001b[0mself\u001b[0m\u001b[0;34m,\u001b[0m \u001b[0m_\u001b[0m\u001b[0;34m)\u001b[0m\u001b[0;34m:\u001b[0m\u001b[0;34m\u001b[0m\u001b[0;34m\u001b[0m\u001b[0m\n\u001b[0;32m--> 396\u001b[0;31m         \u001b[0;32mraise\u001b[0m \u001b[0mTypeError\u001b[0m\u001b[0;34m(\u001b[0m\u001b[0;34m\"plotting not available\"\u001b[0m\u001b[0;34m)\u001b[0m\u001b[0;34m\u001b[0m\u001b[0;34m\u001b[0m\u001b[0m\n\u001b[0m\u001b[1;32m    397\u001b[0m     \u001b[0;32mdef\u001b[0m \u001b[0m__call__\u001b[0m\u001b[0;34m(\u001b[0m\u001b[0mself\u001b[0m\u001b[0;34m,\u001b[0m \u001b[0m_\u001b[0m\u001b[0;34m)\u001b[0m\u001b[0;34m:\u001b[0m\u001b[0;34m\u001b[0m\u001b[0;34m\u001b[0m\u001b[0m\n\u001b[1;32m    398\u001b[0m         \u001b[0;32mraise\u001b[0m \u001b[0mTypeError\u001b[0m\u001b[0;34m(\u001b[0m\u001b[0;34m\"plotting not available\"\u001b[0m\u001b[0;34m)\u001b[0m\u001b[0;34m\u001b[0m\u001b[0;34m\u001b[0m\u001b[0m\n",
      "\u001b[0;31mTypeError\u001b[0m: plotting not available"
     ]
    }
   ],
   "source": [
    "graph = Graph.Read_GraphML('strangerthings.graphml')\n",
    "community_graph = Communities(graph)\n",
    "summary(graph)\n",
    "visual_style = {}\n",
    "visual_style[\"vertex_size\"] = 10\n",
    "#visual_style[\"vertex_label\"] = graph.vs[\"id\"]\n",
    "visual_style['edge_arrow_size'] = 0.5\n",
    "visual_style[\"layout\"] = graph.layout('fr')\n",
    "plot(graph, mark_groups=True, **visual_style)"
   ]
  },
  {
   "cell_type": "markdown",
   "metadata": {},
   "source": [
    "## 5. Algorithm 1. Girvan Newman Algorithm (Betweenness Centrality)"
   ]
  },
  {
   "cell_type": "markdown",
   "metadata": {},
   "source": [
    "Community structure detection based on the betweenness of the edges in the network. This algorithm was invented by M Girvan and MEJ Newman, see: M Girvan and MEJ Newman: Community structure in social and biological networks, Proc. Nat. Acad. Sci. USA 99, 7821-7826 (2002).\n",
    "\n",
    "The idea is that the betweenness of the edges connecting two communities is typically high. So we gradually remove the edge with the highest betweenness from the network and recalculate edge betweenness after every removal, as long as all edges are removed."
   ]
  },
  {
   "cell_type": "code",
   "execution_count": null,
   "metadata": {},
   "outputs": [],
   "source": [
    "edge_betweenness_comms = community_graph.edge_betweenness(weights = None)\n",
    "edge_betweenness_comms_with_weights = community_graph.edge_betweenness(weights = 'weight')"
   ]
  },
  {
   "cell_type": "code",
   "execution_count": null,
   "metadata": {},
   "outputs": [],
   "source": [
    "plot(edge_betweenness_comms, mark_groups = True)"
   ]
  },
  {
   "cell_type": "code",
   "execution_count": null,
   "metadata": {},
   "outputs": [],
   "source": [
    "plot(edge_betweenness_comms_with_weights, mark_groups = True)"
   ]
  },
  {
   "cell_type": "markdown",
   "metadata": {},
   "source": [
    "## 5. Algorithm 2. Fast Greedy"
   ]
  },
  {
   "cell_type": "markdown",
   "metadata": {},
   "source": [
    "Finds the community structure of the graph according to the algorithm of Clauset et al based on the greedy optimization of modularity.\n",
    "\n",
    "This is a bottom-up algorithm: initially every vertex belongs to a separate community, and communities are merged one by one. In every step, the two communities being merged are the ones which result in the maximal increase in modularity.\n",
    "\n",
    "Reference: A. Clauset, M. E. J. Newman and C. Moore: Finding community structure in very large networks. Phys Rev E 70, 066111 (2004)."
   ]
  },
  {
   "cell_type": "code",
   "execution_count": null,
   "metadata": {},
   "outputs": [],
   "source": [
    "fast_greedy_comms = community_graph.fast_greedy(weights = None)\n",
    "fast_greedy_comms_with_weights = community_graph.fast_greedy(weights = 'weight')"
   ]
  },
  {
   "cell_type": "code",
   "execution_count": null,
   "metadata": {},
   "outputs": [],
   "source": [
    "print(fast_greedy_comms)\n",
    "plot(fast_greedy_comms)"
   ]
  },
  {
   "cell_type": "markdown",
   "metadata": {},
   "source": [
    "## 5. Algorithm 3. Info Map"
   ]
  },
  {
   "cell_type": "markdown",
   "metadata": {},
   "source": [
    "Finds the community structure of the network according to the Infomap method of Martin Rosvall and Carl T. Bergstrom.\n",
    "\n",
    "See http://www.mapequation.org for a visualization of the algorithm or one of the references provided below.\n",
    "\n",
    "Parameters:\n",
    "\n",
    "edge_weights - name of an edge attribute or a list containing edge weights,\n",
    "vertex_weights - name of an vertex attribute or a list containing vertex weights,\n",
    "trials - the number of attempts to partition the network.\n",
    "\n",
    "Returns:\n",
    "the calculated membership vector and the corresponding codelength in a tuple.\n",
    "\n",
    "Reference:\n",
    "M. Rosvall and C. T. Bergstrom: Maps of information flow reveal community structure in complex networks. PNAS 105, 1118 (2008). http://arxiv.org/abs/0707.0609\n",
    "M. Rosvall, D. Axelsson and C. T. Bergstrom: The map equation. Eur Phys J Special Topics 178, 13 (2009). http://arxiv.org/abs/0906.1405"
   ]
  },
  {
   "cell_type": "code",
   "execution_count": null,
   "metadata": {},
   "outputs": [],
   "source": [
    "graph = Graph.Read_GraphML('strangerthings.graphml')\n",
    "community_graph = Communities(graph)\n",
    "infomap_comms = community_graph.infomap(edge_weights = None)\n",
    "infomap_comms_with_weights = community_graph.infomap(edge_weights = 'weight')"
   ]
  },
  {
   "cell_type": "code",
   "execution_count": null,
   "metadata": {},
   "outputs": [],
   "source": [
    "community_graph.plot_communities(infomap_comms)"
   ]
  },
  {
   "cell_type": "code",
   "execution_count": null,
   "metadata": {},
   "outputs": [],
   "source": [
    "visual_style = {}\n",
    "visual_style[\"vertex_size\"] = 10\n",
    "#visual_style[\"vertex_label\"] = graph.vs[\"id\"]\n",
    "visual_style['edge_arrow_size'] = 0.5\n",
    "visual_style[\"layout\"] = graph.layout('fr')\n",
    "plot(infomap_comms, mark_groups=True, **visual_style)"
   ]
  },
  {
   "cell_type": "markdown",
   "metadata": {},
   "source": [
    "## 5. Algorithm 4. Label Propagation"
   ]
  },
  {
   "cell_type": "markdown",
   "metadata": {},
   "source": [
    "Finds the community structure of the graph according to the label propagation method of Raghavan et al.\n",
    "\n",
    "Initially, each vertex is assigned a different label. After that, each vertex chooses the dominant label in its neighbourhood in each iteration. Ties are broken randomly and the order in which the vertices are updated is randomized before every iteration. The algorithm ends when vertices reach a consensus.\n",
    "\n",
    "Note that since ties are broken randomly, there is no guarantee that the algorithm returns the same community structure after each run. In fact, they frequently differ. See the paper of Raghavan et al on how to come up with an aggregated community structure.\n",
    "\n",
    "Parameters:\n",
    "\n",
    "weights - name of an edge attribute or a list containing edge weights,\n",
    "\n",
    "initial - name of a vertex attribute or a list containing the initial vertex labels. Labels are identified by integers from zero to n-1 where n is the number of vertices. Negative numbers may also be present in this vector, they represent unlabeled vertices,\n",
    "\n",
    "fixed - a list of booleans for each vertex. True corresponds to vertices whose labeling should not change during the algorithm. It only makes sense if initial labels are also given. Unlabeled vertices cannot be fixed. Note that vertex attribute names are not accepted here.\n",
    "\n",
    "Returns:\n",
    "the resulting membership vector\n",
    "\n",
    "Reference: Raghavan, U.N. and Albert, R. and Kumara, S. Near linear time algorithm to detect community structures in large-scale networks. Phys Rev E 76:036106, 2007. http://arxiv.org/abs/0709.2938."
   ]
  },
  {
   "cell_type": "code",
   "execution_count": null,
   "metadata": {},
   "outputs": [],
   "source": [
    "label_prop_comms = community_graph.label_propagation(weights = None)\n",
    "label_prop_comms_with_weights = community_graph.label_propagation(weights = 'weight')"
   ]
  },
  {
   "cell_type": "code",
   "execution_count": null,
   "metadata": {},
   "outputs": [],
   "source": [
    "visual_style = {}\n",
    "visual_style[\"vertex_size\"] = 10\n",
    "#visual_style[\"vertex_label\"] = graph.vs[\"id\"]\n",
    "visual_style['edge_arrow_size'] = 0.5\n",
    "print(label_prop_comms)"
   ]
  },
  {
   "cell_type": "markdown",
   "metadata": {},
   "source": [
    "## 5. Algorithm 5. Leading Eigen Vector"
   ]
  },
  {
   "cell_type": "markdown",
   "metadata": {},
   "source": [
    "A proper implementation of Newman's eigenvector community structure detection. Each split is done by maximizing the modularity regarding the original network. See the reference for details.\n",
    "\n",
    "Parameters:\n",
    "\n",
    "n - the desired number of communities. If negative, the algorithm tries to do as many splits as possible. Note that the algorithm won't split a community further if the signs of the leading eigenvector are all the same.\n",
    "arpack_options - an ARPACKOptions object used to fine-tune the ARPACK eigenvector calculation. If omitted, the module-level variable called arpack_options is used.\n",
    "weights - name of an edge attribute or a list containing edge weights\n",
    "\n",
    "Returns:\n",
    "a tuple where the first element is the membership vector of the clustering and the second element is the merge matrix.\n",
    "\n",
    "Attention: this function is wrapped in a more convenient syntax in the derived class Graph. It is advised to use that instead of this version.\n",
    "\n",
    "Reference: MEJ Newman: Finding community structure in networks using the eigenvectors of matrices, arXiv:physics/0605087"
   ]
  },
  {
   "cell_type": "code",
   "execution_count": null,
   "metadata": {},
   "outputs": [],
   "source": [
    "leading_eigenvector_comms = community_graph.leading_eigen_vector(weights = None)\n",
    "leading_eigenvector_comms_with_weights = community_graph.leading_eigen_vector(weights = 'weight')"
   ]
  },
  {
   "cell_type": "code",
   "execution_count": null,
   "metadata": {},
   "outputs": [],
   "source": [
    "visual_style = {}\n",
    "visual_style[\"vertex_size\"] = 10\n",
    "#visual_style[\"vertex_label\"] = graph.vs[\"id\"]\n",
    "visual_style['edge_arrow_size'] = 0.5\n",
    "visual_style[\"layout\"] = graph.layout('fr')\n",
    "plot(leading_eigenvector_comms, mark_groups=True, **visual_style)"
   ]
  },
  {
   "cell_type": "markdown",
   "metadata": {},
   "source": [
    "## 5. Algorithm 6. Community Multilevel"
   ]
  },
  {
   "cell_type": "markdown",
   "metadata": {},
   "source": [
    "Finds the community structure of the graph according to the multilevel algorithm of Blondel et al. This is a bottom-up algorithm: initially every vertex belongs to a separate community, and vertices are moved between communities iteratively in a way that maximizes the vertices' local contribution to the overall modularity score. When a consensus is reached (i.e. no single move would increase the modularity score), every community in the original graph is shrank to a single vertex (while keeping the total weight of the incident edges) and the process continues on the next level. The algorithm stops when it is not possible to increase the modularity any more after shrinking the communities to vertices.\n",
    "\n",
    "Parameters:\n",
    "\n",
    "weights - name of an edge attribute or a list containing edge weights\n",
    "return_levels - if True, returns the multilevel result. If False, only the best level (corresponding to the best modularity) is returned.\n",
    "\n",
    "Returns:\n",
    "either a single list describing the community membership of each vertex (if return_levels is False), or a list of community membership vectors, one corresponding to each level and a list of corresponding modularities (if return_levels is True).\n",
    "Attention: this function is wrapped in a more convenient syntax in the derived class Graph. It is advised to use that instead of this version.\n",
    "\n",
    "Reference: VD Blondel, J-L Guillaume, R Lambiotte and E Lefebvre: Fast unfolding of community hierarchies in large networks. J Stat Mech P10008 (2008), http://arxiv.org/abs/0803.0476"
   ]
  },
  {
   "cell_type": "code",
   "execution_count": null,
   "metadata": {
    "scrolled": true
   },
   "outputs": [],
   "source": [
    "multilevel_comms = community_graph.multilevel(weights = None, return_levels=False)\n",
    "multilevel_comms_with_weights = community_graph.multilevel(weights = 'weight', return_levels=False)"
   ]
  },
  {
   "cell_type": "code",
   "execution_count": null,
   "metadata": {},
   "outputs": [],
   "source": [
    "visual_style = {}\n",
    "visual_style[\"vertex_size\"] = 10\n",
    "#visual_style[\"vertex_label\"] = graph.vs[\"id\"]\n",
    "visual_style['edge_arrow_size'] = 0.5\n",
    "visual_style[\"layout\"] = graph.layout('fr')\n",
    "plot(multilevel_comms, mark_groups=True, **visual_style)"
   ]
  },
  {
   "cell_type": "markdown",
   "metadata": {},
   "source": [
    "## 5. Algorithm 7. Optimal Modularity"
   ]
  },
  {
   "cell_type": "markdown",
   "metadata": {},
   "source": [
    "Calculates the optimal modularity score of the graph and the corresponding community structure.\n",
    "\n",
    "This function uses the GNU Linear Programming Kit to solve a large integer optimization problem in order to find the optimal modularity score and the corresponding community structure, therefore it is unlikely to work for graphs larger than a few (less than a hundred) vertices. Consider using one of the heuristic approaches instead if you have such a large graph.\n",
    "\n",
    "Parameters:\n",
    "\n",
    "weights - name of an edge attribute or a list containing edge weights.\n",
    "\n",
    "Returns:\n",
    "the calculated membership vector and the corresponding modularity in a tuple."
   ]
  },
  {
   "cell_type": "code",
   "execution_count": null,
   "metadata": {},
   "outputs": [],
   "source": [
    "#optimal_mod_comms = community_graph.optimal_modularity(weights = None)\n",
    "#optimal_mod_comms_with_weights = community_graph.optimal_modularity(weights = 'weight')"
   ]
  },
  {
   "cell_type": "markdown",
   "metadata": {},
   "source": [
    "## 5. Algorithm 7. Spin Glass"
   ]
  },
  {
   "cell_type": "markdown",
   "metadata": {},
   "source": [
    "community_spinglass(weights=None, spins=25, parupdate=False, start_temp=1, stop_temp=0.01, cool_fact=0.99, update_rule=\"config\", gamma=1, implementation=\"orig\", lambda=1)\n",
    " \n",
    "Finds the community structure of the graph according to the spinglass community detection method of Reichardt & Bornholdt.\n",
    "\n",
    "Parameters:\n",
    "\n",
    "weights - edge weights to be used. Can be a sequence or iterable or even an edge attribute name.\n",
    "spins - integer, the number of spins to use. This is the upper limit for the number of communities. It is not a problem to supply a (reasonably) big number here, in which case some spin states will be unpopulated.\n",
    "parupdate - whether to update the spins of the vertices in parallel (synchronously) or not\n",
    "start_temp - the starting temperature\n",
    "stop_temp - the stop temperature\n",
    "cool_fact - cooling factor for the simulated annealing\n",
    "update_rule - specifies the null model of the simulation. Possible values are \"config\" (a random graph with the same vertex degrees as the input graph) or \"simple\" (a random graph with the same number of edges)\n",
    "gamma - the gamma argument of the algorithm, specifying the balance between the importance of present and missing edges within a community. The default value of 1.0 assigns equal importance to both of them.\n",
    "implementation - currently igraph contains two implementations for the spinglass community detection algorithm. The faster original implementation is the default. The other implementation is able to take into account negative weights, this can be chosen by setting implementation to \"neg\".\n",
    "lambda - the lambda argument of the algorithm, which specifies the balance between the importance of present and missing negatively weighted edges within a community. Smaller values of lambda lead to communities with less negative intra-connectivity. If the argument is zero, the algorithm reduces to a graph coloring algorithm, using the number of spins as colors. This argument is ignored if the original implementation is used.\n",
    "\n",
    "Returns:\n",
    "the community membership vector.\n",
    "\n",
    "Reference:\n",
    "Reichardt J and Bornholdt S: Statistical mechanics of community detection. Phys Rev E 74:016110 (2006), http://arxiv.org/abs/cond-mat/0603718\n",
    "\n",
    "Traag VA and Bruggeman J: Community detection in networks with positive and negative links. Phys Rev E 80:036115 (2009), {http://arxiv.org/abs/0811.2329}"
   ]
  },
  {
   "cell_type": "code",
   "execution_count": null,
   "metadata": {},
   "outputs": [],
   "source": [
    "giant_sub_graph = graph.clusters().giant()\n",
    "community_sub_graph = Communities(giant_sub_graph)\n",
    "spinglass_comms = community_sub_graph.spinglass(weights = None)\n",
    "spinglass_comms_with_weights = community_sub_graph.spinglass(weights = 'weight')"
   ]
  },
  {
   "cell_type": "code",
   "execution_count": null,
   "metadata": {},
   "outputs": [],
   "source": [
    "visual_style = {}\n",
    "visual_style[\"vertex_size\"] = 10\n",
    "#visual_style[\"vertex_label\"] = graph.vs[\"id\"]\n",
    "visual_style['edge_arrow_size'] = 0.5\n",
    "visual_style[\"layout\"] = graph.layout('fr')\n",
    "plot(spinglass_comms, mark_groups=True, **visual_style)"
   ]
  },
  {
   "cell_type": "markdown",
   "metadata": {},
   "source": [
    "## 5. Algorithm 8. Walk Trap"
   ]
  },
  {
   "cell_type": "markdown",
   "metadata": {},
   "source": [
    "Finds the community structure of the graph according to the random walk method of Latapy & Pons.\n",
    "\n",
    "The basic idea of the algorithm is that short random walks tend to stay in the same community. The method provides a dendrogram.\n",
    "\n",
    "Parameters:\n",
    "\n",
    "weights - name of an edge attribute or a list containing edge weights\n",
    "Returns:\n",
    "a tuple with the list of merges and the modularity scores corresponding to each merge\n",
    "\n",
    "Attention: this function is wrapped in a more convenient syntax in the derived class Graph. It is advised to use that instead of this version.\n",
    "\n",
    "Reference: Pascal Pons, Matthieu Latapy: Computing communities in large networks using random walks, http://arxiv.org/abs/physics/0512106."
   ]
  },
  {
   "cell_type": "code",
   "execution_count": null,
   "metadata": {},
   "outputs": [],
   "source": [
    "walktrap_comms = community_graph.walktrap(weights = None, steps=4)\n",
    "walktrap_comms_with_weights = community_graph.walktrap(weights = 'weight', steps=5)"
   ]
  },
  {
   "cell_type": "code",
   "execution_count": null,
   "metadata": {},
   "outputs": [],
   "source": [
    "print(walktrap_comms)\n",
    "plot(walktrap_comms)"
   ]
  },
  {
   "cell_type": "markdown",
   "metadata": {},
   "source": [
    "## 5. Algorithm 9. Louvain "
   ]
  },
  {
   "cell_type": "markdown",
   "metadata": {},
   "source": [
    "This package implements the louvain algorithm in C++ and exposes it to python. It relies on (python-)igraph for it to function. Besides the relative flexibility of the implementation, it also scales well, and can be run on graphs of millions of nodes (as long as they can fit in memory). The core function is find_partition which finds the optimal partition using the louvain algorithm [1] for a number of different methods. The methods currently implemented are (1) modularity [2], (2) Reichardt and Bornholdt's model using the configuration null model and the Erdös-Rényi null model [3], (3) the constant Potts model (CPM) [4], (4) Significance [5], and finally (5) Surprise [6]. In addition, it supports multiplex partition optimisation allowing community detection on for example negative links [7] or multiple time slices [8]. It also provides some support for community detection on bipartite graphs. \n",
    "\n",
    "References\n",
    "\n",
    "Please cite the references appropriately in case they are used.\n",
    "\n",
    "[1]\tBlondel, V. D., Guillaume, J.-L., Lambiotte, R., & Lefebvre, E. (2008). Fast unfolding of communities in large networks. Journal of Statistical Mechanics: Theory and Experiment, 10008(10), 6. 10.1088/1742-5468/2008/10/P10008\n",
    "\n",
    "[2]\tNewman, M. E. J., & Girvan, M. (2004). Finding and evaluating community structure in networks. Physical Review E, 69(2), 026113. 10.1103/PhysRevE.69.026113\n",
    "\n",
    "[3]\tReichardt, J., & Bornholdt, S. (2006). Statistical mechanics of community detection. Physical Review E, 74(1), 016110. 10.1103/PhysRevE.74.016110\n",
    "\n",
    "[4]\tTraag, V. A., Van Dooren, P., & Nesterov, Y. (2011). Narrow scope for resolution-limit-free community detection. Physical Review E, 84(1), 016114. 10.1103/PhysRevE.84.016114\n",
    "\n",
    "[5]\tTraag, V. A., Krings, G., & Van Dooren, P. (2013). Significant scales in community structure. Scientific Reports, 3, 2930. 10.1038/srep02930\n",
    "\n",
    "[6]\tTraag, V. A., Aldecoa, R., & Delvenne, J.-C. (2015). Detecting communities using asymptotical surprise. Physical Review E, 92(2), 022816. 10.1103/PhysRevE.92.022816\n",
    "\n",
    "[7]\tTraag, V. A., & Bruggeman, J. (2009). Community detection in networks with positive and negative links. Physical Review E, 80(3), 036115. 10.1103/PhysRevE.80.036115\n",
    "\n",
    "[8]\tMucha, P. J., Richardson, T., Macon, K., Porter, M. A., & Onnela, J.-P. (2010). Community structure in time-dependent, multiscale, and multiplex networks. Science, 328(5980), 876–8. 10.1126/science.1184819"
   ]
  },
  {
   "cell_type": "code",
   "execution_count": null,
   "metadata": {},
   "outputs": [],
   "source": [
    "# TO DO"
   ]
  },
  {
   "cell_type": "markdown",
   "metadata": {},
   "source": [
    "## 6. Community Detection using CDLib"
   ]
  },
  {
   "cell_type": "code",
   "execution_count": 1,
   "metadata": {},
   "outputs": [],
   "source": [
    "from cdlib import algorithms, viz, evaluation"
   ]
  },
  {
   "cell_type": "code",
   "execution_count": null,
   "metadata": {},
   "outputs": [],
   "source": [
    "karate = nx.karate_club_graph()\n",
    "coms = algorithms.girvan_newman(karate, level=2)\n",
    "pos = nx.spring_layout(karate)\n",
    "#nx.draw_networkx(karate, pos)\n",
    "viz.plot_network_clusters(karate, coms, pos)\n",
    "#viz.plot_community_graph(karate, coms)"
   ]
  },
  {
   "cell_type": "code",
   "execution_count": null,
   "metadata": {},
   "outputs": [],
   "source": [
    "com = algorithms.girvan_newman(graph, level=1)\n",
    "pos = nx.spring_layout(graph)\n",
    "#nx.draw_networkx(karate, pos)\n",
    "viz.plot_network_clusters(graph, com, pos)"
   ]
  },
  {
   "cell_type": "code",
   "execution_count": null,
   "metadata": {},
   "outputs": [],
   "source": [
    "viz.plot_community_graph(graph, com)"
   ]
  },
  {
   "cell_type": "code",
   "execution_count": null,
   "metadata": {},
   "outputs": [],
   "source": []
  },
  {
   "cell_type": "code",
   "execution_count": null,
   "metadata": {},
   "outputs": [],
   "source": [
    "coms2 = algorithms.walktrap(karate)\n",
    "lmplot = viz.plot_com_properties_relation([coms,coms2],evaluation.size,evaluation.internal_edge_density)"
   ]
  },
  {
   "cell_type": "code",
   "execution_count": null,
   "metadata": {},
   "outputs": [],
   "source": [
    "from cdlib import algorithms, viz, evaluation, NodeClustering\n",
    "g1 = nx.algorithms.community.LFR_benchmark_graph(1000, 3, 1.5, 0.5, min_community=20, average_degree=5)\n",
    "g2 = nx.algorithms.community.LFR_benchmark_graph(1000, 3, 1.5, 0.7, min_community=20, average_degree=5)\n",
    "names = [\"g1\", \"g2\"]\n",
    "graphs = [g1, g2]\n",
    "references = []\n",
    "for g in graphs:\n",
    "     references.append(NodeClustering(communities={frozenset(g.nodes[v]['community']) for v in g}, \n",
    "                                      graph=g, method_name=\"reference\"))\n",
    "algos = [algorithms.crisp_partition.louvain, algorithms.crisp_partition.label_propagation]\n",
    "viz.plot_scoring(graphs, references, names, algos, nbRuns=2)"
   ]
  },
  {
   "cell_type": "code",
   "execution_count": null,
   "metadata": {},
   "outputs": [],
   "source": [
    "g = nx.karate_club_graph()\n",
    "coms = algorithms.louvain(g)\n",
    "coms2 = algorithms.walktrap(g)\n",
    "violinplot = viz.plot_com_stat([coms,coms2],evaluation.size)"
   ]
  },
  {
   "cell_type": "code",
   "execution_count": null,
   "metadata": {},
   "outputs": [],
   "source": [
    "clustermap = viz.plot_sim_matrix([coms,coms2],evaluation.adjusted_mutual_information)"
   ]
  },
  {
   "cell_type": "code",
   "execution_count": 6,
   "metadata": {},
   "outputs": [
    {
     "name": "stderr",
     "output_type": "stream",
     "text": [
      "/Users/soumithri/Desktop/Projects/Thesis/.env/lib/python3.7/site-packages/sklearn/metrics/cluster/supervised.py:746: FutureWarning: The behavior of AMI will change in version 0.22. To match the behavior of 'v_measure_score', AMI will use average_method='arithmetic' by default.\n",
      "  FutureWarning)\n",
      "/Users/soumithri/Desktop/Projects/Thesis/.env/lib/python3.7/site-packages/sklearn/metrics/cluster/supervised.py:746: FutureWarning: The behavior of AMI will change in version 0.22. To match the behavior of 'v_measure_score', AMI will use average_method='arithmetic' by default.\n",
      "  FutureWarning)\n",
      "/Users/soumithri/Desktop/Projects/Thesis/.env/lib/python3.7/site-packages/sklearn/metrics/cluster/supervised.py:746: FutureWarning: The behavior of AMI will change in version 0.22. To match the behavior of 'v_measure_score', AMI will use average_method='arithmetic' by default.\n",
      "  FutureWarning)\n",
      "/Users/soumithri/Desktop/Projects/Thesis/.env/lib/python3.7/site-packages/sklearn/metrics/cluster/supervised.py:746: FutureWarning: The behavior of AMI will change in version 0.22. To match the behavior of 'v_measure_score', AMI will use average_method='arithmetic' by default.\n",
      "  FutureWarning)\n",
      "/Users/soumithri/Desktop/Projects/Thesis/.env/lib/python3.7/site-packages/sklearn/metrics/cluster/supervised.py:746: FutureWarning: The behavior of AMI will change in version 0.22. To match the behavior of 'v_measure_score', AMI will use average_method='arithmetic' by default.\n",
      "  FutureWarning)\n",
      "/Users/soumithri/Desktop/Projects/Thesis/.env/lib/python3.7/site-packages/sklearn/metrics/cluster/supervised.py:746: FutureWarning: The behavior of AMI will change in version 0.22. To match the behavior of 'v_measure_score', AMI will use average_method='arithmetic' by default.\n",
      "  FutureWarning)\n",
      "/Users/soumithri/Desktop/Projects/Thesis/.env/lib/python3.7/site-packages/sklearn/metrics/cluster/supervised.py:746: FutureWarning: The behavior of AMI will change in version 0.22. To match the behavior of 'v_measure_score', AMI will use average_method='arithmetic' by default.\n",
      "  FutureWarning)\n",
      "/Users/soumithri/Desktop/Projects/Thesis/.env/lib/python3.7/site-packages/sklearn/metrics/cluster/supervised.py:746: FutureWarning: The behavior of AMI will change in version 0.22. To match the behavior of 'v_measure_score', AMI will use average_method='arithmetic' by default.\n",
      "  FutureWarning)\n"
     ]
    },
    {
     "data": {
      "text/plain": [
       "<matplotlib.axes._subplots.AxesSubplot at 0x130a58f28>"
      ]
     },
     "execution_count": 6,
     "metadata": {},
     "output_type": "execute_result"
    },
    {
     "data": {
      "image/png": "[encoded data removed]",
      "text/plain": [
       "<Figure size 432x288 with 1 Axes>"
      ]
     },
     "metadata": {
      "needs_background": "light"
     },
     "output_type": "display_data"
    }
   ],
   "source": [
    "from cdlib import NodeClustering\n",
    "g1 = nx.algorithms.community.LFR_benchmark_graph(1000, 3, 1.5, 0.5, min_community=20, average_degree=5)\n",
    "g2 = nx.algorithms.community.LFR_benchmark_graph(1000, 3, 1.5, 0.7, min_community=20, average_degree=5)\n",
    "names = [\"g1\", \"g2\"]\n",
    "graphs = [g1, g2]\n",
    "references = []\n",
    "for g in graphs:\n",
    "    references.append(NodeClustering(communities={frozenset(g.nodes[v]['community']) for v in g}, graph=g, method_name=\"reference\"))\n",
    "algos = [algorithms.crisp_partition.louvain, algorithms.crisp_partition.label_propagation]\n",
    "viz.plot_scoring(graphs, references, names, algos, scoring=evaluation.adjusted_mutual_information, nbRuns=2)"
   ]
  },
  {
   "cell_type": "code",
   "execution_count": null,
   "metadata": {},
   "outputs": [],
   "source": [
    "viz.plot_sim_matrix([coms,coms2],evaluation.adjusted_mutual_information)"
   ]
  },
  {
   "cell_type": "code",
   "execution_count": null,
   "metadata": {},
   "outputs": [],
   "source": [
    "graph.get_edge_data('833631744892997632', '3294535848')"
   ]
  },
  {
   "cell_type": "code",
   "execution_count": null,
   "metadata": {},
   "outputs": [],
   "source": []
  }
 ],
 "metadata": {
  "kernelspec": {
   "display_name": "Python 3",
   "language": "python",
   "name": "python3"
  },
  "language_info": {
   "codemirror_mode": {
    "name": "ipython",
    "version": 3
   },
   "file_extension": ".py",
   "mimetype": "text/x-python",
   "name": "python",
   "nbconvert_exporter": "python",
   "pygments_lexer": "ipython3",
   "version": "3.7.4"
  }
 },
 "nbformat": 4,
 "nbformat_minor": 2
}
