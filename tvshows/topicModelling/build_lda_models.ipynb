{
 "cells": [
  {
   "cell_type": "markdown",
   "metadata": {},
   "source": [
    "## GENSIM LDA TOPIC MODELLING"
   ]
  },
  {
   "cell_type": "markdown",
   "metadata": {},
   "source": [
    "> ### <font color=green>1. Install the necessary modules</font>"
   ]
  },
  {
   "cell_type": "markdown",
   "metadata": {},
   "source": [
    "> ### <font color=green>2. Import the modules</font>"
   ]
  },
  {
   "cell_type": "code",
   "execution_count": 19,
   "metadata": {},
   "outputs": [],
   "source": [
    "import logging\n",
    "import re\n",
    "import json\n",
    "import os\n",
    "from collections import namedtuple\n",
    "\n",
    "import numpy as np\n",
    "import pandas as pd\n",
    "from pprint import pprint\n",
    "from matplotlib import pyplot as plt\n",
    "from gensim import corpora, models\n",
    "from gensim.models.ldamulticore import LdaMulticore\n",
    "from gensim.models.coherencemodel import CoherenceModel\n",
    "from sklearn.model_selection import train_test_split\n",
    "from timeit import default_timer"
   ]
  },
  {
   "cell_type": "code",
   "execution_count": 21,
   "metadata": {},
   "outputs": [
    {
     "data": {
      "text/html": [
       "<div>\n",
       "<style scoped>\n",
       "    .dataframe tbody tr th:only-of-type {\n",
       "        vertical-align: middle;\n",
       "    }\n",
       "\n",
       "    .dataframe tbody tr th {\n",
       "        vertical-align: top;\n",
       "    }\n",
       "\n",
       "    .dataframe thead th {\n",
       "        text-align: right;\n",
       "    }\n",
       "</style>\n",
       "<table border=\"1\" class=\"dataframe\">\n",
       "  <thead>\n",
       "    <tr style=\"text-align: right;\">\n",
       "      <th></th>\n",
       "      <th>user_id</th>\n",
       "      <th>preprocessed_tweets</th>\n",
       "      <th>tweet_tokens</th>\n",
       "    </tr>\n",
       "  </thead>\n",
       "  <tbody>\n",
       "    <tr>\n",
       "      <th>0</th>\n",
       "      <td>932563433605812226</td>\n",
       "      <td>coworker tell ban live north dakota back go b...</td>\n",
       "      <td>[coworker, tell, ban, live, north, dakota, bac...</td>\n",
       "    </tr>\n",
       "    <tr>\n",
       "      <th>1</th>\n",
       "      <td>858771417382387713</td>\n",
       "      <td>today retweet second later reason summary cli...</td>\n",
       "      <td>[today, retweet, second, later, reason, summar...</td>\n",
       "    </tr>\n",
       "    <tr>\n",
       "      <th>2</th>\n",
       "      <td>936079485186822144</td>\n",
       "      <td>solve problem professor first class kid macbo...</td>\n",
       "      <td>[solve, problem, professor, first, class, kid,...</td>\n",
       "    </tr>\n",
       "    <tr>\n",
       "      <th>3</th>\n",
       "      <td>2248326669</td>\n",
       "      <td>create thiswarofmine knew affect people persp...</td>\n",
       "      <td>[create, thiswarofmine, knew, affect, people, ...</td>\n",
       "    </tr>\n",
       "    <tr>\n",
       "      <th>4</th>\n",
       "      <td>22557879</td>\n",
       "      <td>opinion first month office donald trump tell ...</td>\n",
       "      <td>[opinion, first, month, office, donald, trump,...</td>\n",
       "    </tr>\n",
       "  </tbody>\n",
       "</table>\n",
       "</div>"
      ],
      "text/plain": [
       "              user_id                                preprocessed_tweets  \\\n",
       "0  932563433605812226   coworker tell ban live north dakota back go b...   \n",
       "1  858771417382387713   today retweet second later reason summary cli...   \n",
       "2  936079485186822144   solve problem professor first class kid macbo...   \n",
       "3          2248326669   create thiswarofmine knew affect people persp...   \n",
       "4            22557879   opinion first month office donald trump tell ...   \n",
       "\n",
       "                                        tweet_tokens  \n",
       "0  [coworker, tell, ban, live, north, dakota, bac...  \n",
       "1  [today, retweet, second, later, reason, summar...  \n",
       "2  [solve, problem, professor, first, class, kid,...  \n",
       "3  [create, thiswarofmine, knew, affect, people, ...  \n",
       "4  [opinion, first, month, office, donald, trump,...  "
      ]
     },
     "execution_count": 21,
     "metadata": {},
     "output_type": "execute_result"
    }
   ],
   "source": [
    "# Convert the tweet_doc into tweet_tokens and remove non_alphanumeric strings in the tokens\n",
    "\n",
    "df['tweet_tokens'] = df['preprocessed_tweets'].apply(lambda x: x.split())\n",
    "#logging.info('Length of total dataset: {}'.format(len(df)))\n",
    "\n",
    "df.head()"
   ]
  },
  {
   "cell_type": "markdown",
   "metadata": {},
   "source": [
    "> ### <font color=green>5. Split the data set into 4 sets - 20%, 40%, 60%, 80%</font>"
   ]
  },
  {
   "cell_type": "code",
   "execution_count": 22,
   "metadata": {},
   "outputs": [],
   "source": [
    "df_80, df_20 = train_test_split(df, test_size=0.2)\n",
    "df_60, df_40 = train_test_split(df, test_size=0.4)"
   ]
  },
  {
   "cell_type": "markdown",
   "metadata": {},
   "source": [
    "> ### <font color=green>6. Define a function to create directories</font>"
   ]
  },
  {
   "cell_type": "code",
   "execution_count": 23,
   "metadata": {},
   "outputs": [],
   "source": [
    "def create_Directories(path):\n",
    "  ''' Checks for the directory. If not present creates the directory'''\n",
    "  try: \n",
    "      os.makedirs(path)\n",
    "  except OSError:\n",
    "      if not os.path.isdir(path):\n",
    "          raise"
   ]
  },
  {
   "cell_type": "code",
   "execution_count": 35,
   "metadata": {},
   "outputs": [],
   "source": [
    "#CONSTANTS\n",
    "# Output Directory to save\n",
    "#Delete Jupyter notebook root logger handler\n",
    "\n",
    "OUTPUT_DIR = '././models'\n",
    "SAVE_DIR = OUTPUT_DIR+'/df_40_p40_i50'\n",
    "create_Directories(OUTPUT_DIR)\n",
    "create_Directories(SAVE_DIR)\n",
    "log_file = SAVE_DIR+'/lda.log'\n",
    "%config Application.log_level=\"DEBUG\"\n",
    "#Create logger as usual\n",
    "logger = logging.getLogger(__name__)\n",
    "fhandler = logging.FileHandler(filename=log_file, mode='a')\n",
    "formatter = logging.Formatter('%(asctime)s - %(name)s - %(levelname)s - %(message)s')\n",
    "fhandler.setFormatter(formatter)\n",
    "logger.addHandler(fhandler)\n",
    "logger.setLevel(logging.DEBUG)\n",
    "\n",
    "logging.debug('test...')"
   ]
  },
  {
   "cell_type": "code",
   "execution_count": 25,
   "metadata": {},
   "outputs": [],
   "source": [
    "logging.debug('Running......')"
   ]
  },
  {
   "cell_type": "markdown",
   "metadata": {},
   "source": [
    "> ### <font color=green>6. Create and save the dictionary and Mm_corpus (term-document frequency) model</font>"
   ]
  },
  {
   "cell_type": "code",
   "execution_count": 26,
   "metadata": {},
   "outputs": [],
   "source": [
    "def create_dict_corpus(doc_list, fname, OUTPUT_DIR=OUTPUT_DIR):\n",
    "  '''Creates a dictionary and corpus file using a dataframe and saves the file as 'dict' file \n",
    "  and 'MM corpus' file given by fname\n",
    "  '''\n",
    "  if not os.path.exists(OUTPUT_DIR + '/'+ fname + '.dict'):\n",
    "      dictionary = corpora.Dictionary(doc_list)\n",
    "      dictionary.save(OUTPUT_DIR + '/' + fname + '.dict')\n",
    "      doc_term_matrix = [dictionary.doc2bow(doc) for doc in doc_list]\n",
    "      corpora.MmCorpus.serialize(OUTPUT_DIR + '/' + fname + '.mm', doc_term_matrix)\n",
    "      mm_corpus = corpora.MmCorpus(OUTPUT_DIR + '/' + fname + '.mm')\n",
    "  else:\n",
    "      dictionary = corpora.Dictionary.load(OUTPUT_DIR + '/' + fname + '.dict')\n",
    "      mm_corpus = corpora.MmCorpus(OUTPUT_DIR + '/' + fname + '.mm')\n",
    "  return (dictionary, mm_corpus)"
   ]
  },
  {
   "cell_type": "markdown",
   "metadata": {},
   "source": [
    "> ### <font color=green>7. Define LDA Multicore on the corpus</font>"
   ]
  },
  {
   "cell_type": "code",
   "execution_count": 27,
   "metadata": {},
   "outputs": [],
   "source": [
    "def run_lda(corpus, dictionary, texts, start_topic=10, end_topic=100, step_size_of_topic=10, passes=1, iterations=50):\n",
    "  lda_model = dict()\n",
    "  coh_model_umass = dict()\n",
    "  coh_model_uci = dict()\n",
    "  coh_model_ucv = dict()\n",
    "  eval_frame = pd.DataFrame(columns=['Num_Topics','Log_Perplexity_P_{0}_I_{1}'.format(passes, iterations), \n",
    "                                     'Topic_Coherence(u_mass)_P_{0}_I_{1}'.format(passes, iterations),\n",
    "                                     'Topic_Coherence(c_uci)_P_{0}_I_{1}'.format(passes, iterations),\n",
    "                                     'Topic_Coherence(c_v)_P_{0}_I_{1}'.format(passes, iterations)])\n",
    "  logging.debug('******* RUNNING LDA *************')\n",
    "  for i in range(start_topic, end_topic+1, step_size_of_topic):\n",
    "    print('Running LDA for the number of topics: {}'.format(i))\n",
    "    lda_model[i] = LdaMulticore(corpus=corpus, id2word=dictionary, num_topics=i, passes=passes, iterations=iterations, chunksize=2500)\n",
    "    coh_model_umass[i] = CoherenceModel(model=lda_model[i], corpus=corpus, dictionary=dictionary, coherence='u_mass')\n",
    "    coh_model_uci[i] = CoherenceModel(model=lda_model[i], texts=texts, coherence='c_uci')\n",
    "    coh_model_ucv[i] = CoherenceModel(model=lda_model[i], texts=texts, coherence='c_v')\n",
    "    eval_frame.loc[len(eval_frame)] = [i, lda_model[i].log_perplexity(corpus), coh_model_umass[i].get_coherence(), \n",
    "                                       coh_model_uci[i].get_coherence(), coh_model_ucv[i].get_coherence()]\n",
    "  models = namedtuple('models',['lda_models', 'eval_frame'])\n",
    "  return models(lda_model, eval_frame)"
   ]
  },
  {
   "cell_type": "markdown",
   "metadata": {},
   "source": [
    "> ### <font color=green>7. Save the LDA models</font>"
   ]
  },
  {
   "cell_type": "code",
   "execution_count": 28,
   "metadata": {},
   "outputs": [],
   "source": [
    "def save_model(DIR, lda_model):\n",
    "  for num_topics, model in dict(lda_model).items():\n",
    "    print(\"Saving LDA model with number of topics: {}\".format(num_topics))\n",
    "    model.save(DIR+'/'+str(num_topics)+'.lda', separately=False)"
   ]
  },
  {
   "cell_type": "markdown",
   "metadata": {},
   "source": [
    "> ### <font color=green>8. Main function of the program</font>"
   ]
  },
  {
   "cell_type": "code",
   "execution_count": 29,
   "metadata": {},
   "outputs": [],
   "source": [
    "def main(dictionary, corpus, texts, SAVE_DIR=SAVE_DIR):\n",
    "  #start logging to a file\n",
    "  \n",
    "  start_time = default_timer()\n",
    "  print('Enter the LDA parameters...\\n')\n",
    "  start_topic, end_topic, step_size_of_topic, passes, iterations = map(int, \n",
    "                                                                       raw_input('Start Topic, End_topic, step_size, passes, iterations : ').split(','))\n",
    "  prompt = str(raw_input('Do you wish to run LDA (y/n)? : ')).lower()\n",
    "  if prompt=='y':\n",
    "    logging.debug('Running LDA and Topic Coherence ...\\n')\n",
    "    models = run_lda(corpus=corpus, dictionary=dictionary, texts=texts, start_topic=start_topic, end_topic=end_topic, \n",
    "                     step_size_of_topic=step_size_of_topic, passes=passes, iterations=iterations)\n",
    "    end_time = default_timer()\n",
    "    with open(log_file,'w') as f:\n",
    "      f.write(\"############ PROGRAM EXECUTION SUMMARY ###########\\n\")\n",
    "      f.write(\"----> Program start time: {0}\\n\".format(start_time))\n",
    "      f.write(\"----> Program end time: {0}\\n\".format(end_time))\n",
    "      f.write(\"----> Total program time taken in secs: {0} hrs\\n\".format((end_time-start_time)/(60*60)))\n",
    "      f.write(\"################################\\n\\n\")\n",
    "      f.write(\"---------------- PROGRAM ENDED ----------------------\")\n",
    "    \n",
    "    #save the models\n",
    "    save_model(lda_model=models.lda_models, DIR=SAVE_DIR)\n",
    "  return models"
   ]
  },
  {
   "cell_type": "markdown",
   "metadata": {},
   "source": [
    "> ### <font color=green>9. Define the plot function</font>"
   ]
  },
  {
   "cell_type": "code",
   "execution_count": 30,
   "metadata": {},
   "outputs": [],
   "source": [
    "def plot(df, x1, x2, y1, y2, title1, title2, save=False, figsize=(20,5), OUTPUT_DIR=OUTPUT_DIR):\n",
    "  fig, axes = plt.subplots(nrows=1, ncols=2)\n",
    "  ax1 = df.plot(ax=axes[0], x=x1, y=y1, color='blue',\n",
    "          figsize=figsize, title='Number of Topics(K) Vs Log Perplexity')\n",
    "  #ax1.set(xlabel=xlabel1, ylabel=ylabel1)\n",
    "  \n",
    "  ax2 = df.plot(ax=axes[1], x=x2, y=y2, color='red',\n",
    "          figsize=figsize, title='Number of Topics(K) Vs Topic Coherence')\n",
    "  #ax2.set(xlabel=xlabel2, ylabel=ylabel2)\n",
    "  if save==True:\n",
    "    create_Directories(OUTPUT_DIR)\n",
    "    plt.savefig(OUTPUT_DIR+'/TopicsVsPerplexity&Coherence.png')"
   ]
  },
  {
   "cell_type": "markdown",
   "metadata": {},
   "source": [
    "> ### <font color=green>10. Run LDA and plots graphs for 80% CORPUS - Passes=50, Iterations=50</font>"
   ]
  },
  {
   "cell_type": "code",
   "execution_count": 89,
   "metadata": {},
   "outputs": [
    {
     "name": "stdout",
     "output_type": "stream",
     "text": [
      "Enter the LDA parameters...\n",
      "\n",
      "Start Topic, End_topic, step_size, passes, iterations : 10,100,10,50,50\n",
      "Do you wish to run LDA (y/n)? : y\n",
      "Running LDA for the number of topics: 10\n",
      "Running LDA for the number of topics: 20\n",
      "Running LDA for the number of topics: 30\n",
      "Running LDA for the number of topics: 40\n",
      "Running LDA for the number of topics: 50\n",
      "Running LDA for the number of topics: 60\n",
      "Running LDA for the number of topics: 70\n",
      "Running LDA for the number of topics: 80\n",
      "Running LDA for the number of topics: 90\n"
     ]
    },
    {
     "name": "stderr",
     "output_type": "stream",
     "text": [
      "/usr/local/envs/py2env/lib/python2.7/site-packages/gensim/models/ldamodel.py:1023: RuntimeWarning: divide by zero encountered in log\n",
      "  diff = np.log(self.expElogbeta)\n"
     ]
    },
    {
     "name": "stdout",
     "output_type": "stream",
     "text": [
      "Running LDA for the number of topics: 100\n",
      "Saving LDA model with number of topics: 100\n",
      "Saving LDA model with number of topics: 70\n",
      "Saving LDA model with number of topics: 40\n",
      "Saving LDA model with number of topics: 10\n",
      "Saving LDA model with number of topics: 80\n",
      "Saving LDA model with number of topics: 50\n",
      "Saving LDA model with number of topics: 20\n",
      "Saving LDA model with number of topics: 90\n",
      "Saving LDA model with number of topics: 60\n",
      "Saving LDA model with number of topics: 30\n",
      "   Num_Topics  Log_Perplexity_P_50_I_50  Topic_Coherence(u_mass)_P_50_I_50  \\\n",
      "0        10.0                 -8.384001                          -0.864757   \n",
      "1        20.0                 -8.335302                          -1.265985   \n",
      "2        30.0                 -8.321912                          -1.895736   \n",
      "3        40.0                 -8.309289                          -1.951398   \n",
      "4        50.0                 -8.300436                          -1.748856   \n",
      "5        60.0                 -8.303207                          -1.525047   \n",
      "6        70.0                 -8.291200                          -2.389924   \n",
      "7        80.0                 -8.295983                          -1.474034   \n",
      "8        90.0                 -8.300018                          -1.861767   \n",
      "9       100.0                 -8.287505                          -2.055546   \n",
      "\n",
      "   Topic_Coherence(c_uci)_P_50_I_50  \n",
      "0                          0.012097  \n",
      "1                         -0.395870  \n",
      "2                         -0.226570  \n",
      "3                         -0.459448  \n",
      "4                         -0.490762  \n",
      "5                         -0.256188  \n",
      "6                         -0.395946  \n",
      "7                         -0.357406  \n",
      "8                         -0.312366  \n",
      "9                         -0.664485  \n"
     ]
    }
   ],
   "source": [
    "SAVE_DIR = OUTPUT_DIR+'/df_80_p50_i50'\n",
    "create_Directories(OUTPUT_DIR)\n",
    "create_Directories(SAVE_DIR)\n",
    "(dictionary, corpus) = create_dict_corpus(list(df_80['tweet_tokens']), 'data_80', OUTPUT_DIR=SAVE_DIR)\n",
    "models = main(dictionary=dictionary, corpus=corpus, SAVE_DIR=SAVE_DIR, texts=list(df_80['tweet_tokens']))\n",
    "df_80_p50_i50 = models.eval_frame\n",
    "print(df_80_p50_i50)\n",
    "df_80_p50_i50.to_csv(SAVE_DIR+'/measurements.csv', index=False)"
   ]
  },
  {
   "cell_type": "markdown",
   "metadata": {},
   "source": [
    "> ### <font color=green>11.Plot the graphs</font>"
   ]
  },
  {
   "cell_type": "code",
   "execution_count": null,
   "metadata": {},
   "outputs": [],
   "source": [
    "df_80_p50_i50.head()"
   ]
  },
  {
   "cell_type": "markdown",
   "metadata": {},
   "source": [
    "> ### <font color=green>11.LDA 80% corpus for passes=40 , iterations=50</font>"
   ]
  },
  {
   "cell_type": "code",
   "execution_count": 15,
   "metadata": {},
   "outputs": [
    {
     "name": "stdout",
     "output_type": "stream",
     "text": [
      "Enter the LDA parameters...\n",
      "\n",
      "Start Topic, End_topic, step_size, passes, iterations : 10,100,10,40,50\n",
      "Do you wish to run LDA (y/n)? : y\n",
      "Running LDA for the number of topics: 10\n",
      "Running LDA for the number of topics: 20\n",
      "Running LDA for the number of topics: 30\n",
      "Running LDA for the number of topics: 40\n",
      "Running LDA for the number of topics: 50\n",
      "Running LDA for the number of topics: 60\n",
      "Running LDA for the number of topics: 70\n",
      "Running LDA for the number of topics: 80\n",
      "Running LDA for the number of topics: 90\n"
     ]
    },
    {
     "name": "stderr",
     "output_type": "stream",
     "text": [
      "/usr/local/envs/py2env/lib/python2.7/site-packages/gensim/models/ldamodel.py:1023: RuntimeWarning: divide by zero encountered in log\n",
      "  diff = np.log(self.expElogbeta)\n"
     ]
    },
    {
     "name": "stdout",
     "output_type": "stream",
     "text": [
      "Running LDA for the number of topics: 100\n",
      "Saving LDA model with number of topics: 100\n",
      "Saving LDA model with number of topics: 70\n",
      "Saving LDA model with number of topics: 40\n",
      "Saving LDA model with number of topics: 10\n",
      "Saving LDA model with number of topics: 80\n",
      "Saving LDA model with number of topics: 50\n",
      "Saving LDA model with number of topics: 20\n",
      "Saving LDA model with number of topics: 90\n",
      "Saving LDA model with number of topics: 60\n",
      "Saving LDA model with number of topics: 30\n",
      "   Num_Topics  Log_Perplexity_P_40_I_50  Topic_Coherence(u_mass)_P_40_I_50  \\\n",
      "0        10.0                 -8.397411                          -0.221766   \n",
      "1        20.0                 -8.330701                          -1.073522   \n",
      "2        30.0                 -8.324421                          -1.381581   \n",
      "3        40.0                 -8.298727                          -1.646607   \n",
      "4        50.0                 -8.306759                          -1.783331   \n",
      "5        60.0                 -8.296918                          -1.588619   \n",
      "6        70.0                 -8.306570                          -2.249746   \n",
      "7        80.0                 -8.289460                          -1.888428   \n",
      "8        90.0                 -8.304189                          -1.988017   \n",
      "9       100.0                 -8.301267                          -1.726087   \n",
      "\n",
      "   Topic_Coherence(c_uci)_P_40_I_50  Topic_Coherence(c_v)_P_40_I_50  \n",
      "0                          0.120691                        0.361966  \n",
      "1                         -0.476647                        0.376355  \n",
      "2                         -0.482339                        0.366481  \n",
      "3                         -0.307728                        0.410169  \n",
      "4                         -0.300727                        0.406168  \n",
      "5                         -0.292723                        0.394112  \n",
      "6                         -0.408216                        0.399070  \n",
      "7                         -0.382831                        0.418012  \n",
      "8                         -0.581195                        0.406368  \n",
      "9                         -0.405047                        0.424599  \n"
     ]
    }
   ],
   "source": [
    "(dictionary, corpus) = create_dict_corpus(list(df_80['tweet_tokens']), 'data_80', OUTPUT_DIR=SAVE_DIR)\n",
    "models = main(dictionary=dictionary, corpus=corpus, SAVE_DIR=SAVE_DIR, texts=list(df_80['tweet_tokens']))\n",
    "df_80_p40_i50 = models.eval_frame\n",
    "print(df_80_p40_i50)\n",
    "df_80_p40_i50.to_csv(SAVE_DIR+'/measurements.csv', index=False)"
   ]
  },
  {
   "cell_type": "markdown",
   "metadata": {},
   "source": [
    "> ### <font color=green>11.LDA 60% corpus for passes=50 , iterations=50</font>"
   ]
  },
  {
   "cell_type": "code",
   "execution_count": null,
   "metadata": {},
   "outputs": [
    {
     "name": "stdout",
     "output_type": "stream",
     "text": [
      "Enter the LDA parameters...\n",
      "\n",
      "Start Topic, End_topic, step_size, passes, iterations : 10,100,10,50,50\n",
      "Do you wish to run LDA (y/n)? : y\n",
      "Running LDA for the number of topics: 10\n",
      "Running LDA for the number of topics: 20\n",
      "Running LDA for the number of topics: 30\n",
      "Running LDA for the number of topics: 40\n",
      "Running LDA for the number of topics: 50\n",
      "Running LDA for the number of topics: 60\n",
      "Running LDA for the number of topics: 70\n",
      "Running LDA for the number of topics: 80\n",
      "Running LDA for the number of topics: 90\n",
      "Running LDA for the number of topics: 100\n"
     ]
    }
   ],
   "source": [
    "SAVE_DIR = OUTPUT_DIR+'/df_60_p50_i50_1'\n",
    "create_Directories(SAVE_DIR)\n",
    "(dictionary, corpus) = create_dict_corpus(list(df_60['tweet_tokens']), 'data_60', OUTPUT_DIR=SAVE_DIR)\n",
    "models = main(dictionary=dictionary, corpus=corpus, SAVE_DIR=SAVE_DIR, texts=list(df_60['tweet_tokens']))\n",
    "df_60_p50_i50 = models.eval_frame\n",
    "print(df_60_p50_i50)\n",
    "df_60_p50_i50.to_csv(SAVE_DIR+'/measurements.csv', index=False)"
   ]
  },
  {
   "cell_type": "markdown",
   "metadata": {},
   "source": [
    "> ### <font color=green>11.LDA 60% corpus for passes=40 , iterations=50</font>"
   ]
  },
  {
   "cell_type": "code",
   "execution_count": 17,
   "metadata": {},
   "outputs": [
    {
     "name": "stdout",
     "output_type": "stream",
     "text": [
      "Enter the LDA parameters...\n",
      "\n",
      "Start Topic, End_topic, step_size, passes, iterations : 10,100,10,40,50\n",
      "Do you wish to run LDA (y/n)? : y\n",
      "Running LDA for the number of topics: 10\n",
      "Running LDA for the number of topics: 20\n"
     ]
    },
    {
     "name": "stderr",
     "output_type": "stream",
     "text": [
      "/usr/local/envs/py2env/lib/python2.7/site-packages/gensim/topic_coherence/direct_confirmation_measure.py:195: RuntimeWarning: divide by zero encountered in double_scalars\n",
      "  m_lr_i = np.log(numerator / denominator)\n",
      "/usr/local/envs/py2env/lib/python2.7/site-packages/gensim/topic_coherence/indirect_confirmation_measure.py:317: RuntimeWarning: invalid value encountered in double_scalars\n",
      "  return cv1.T.dot(cv2)[0, 0] / (_magnitude(cv1) * _magnitude(cv2))\n"
     ]
    },
    {
     "name": "stdout",
     "output_type": "stream",
     "text": [
      "Running LDA for the number of topics: 30\n",
      "Running LDA for the number of topics: 40\n",
      "Running LDA for the number of topics: 50\n",
      "Running LDA for the number of topics: 60\n",
      "Running LDA for the number of topics: 70\n",
      "Running LDA for the number of topics: 80\n",
      "Running LDA for the number of topics: 90\n"
     ]
    },
    {
     "name": "stderr",
     "output_type": "stream",
     "text": [
      "/usr/local/envs/py2env/lib/python2.7/site-packages/gensim/models/ldamodel.py:1023: RuntimeWarning: divide by zero encountered in log\n",
      "  diff = np.log(self.expElogbeta)\n"
     ]
    },
    {
     "name": "stdout",
     "output_type": "stream",
     "text": [
      "Running LDA for the number of topics: 100\n",
      "Saving LDA model with number of topics: 100\n",
      "Saving LDA model with number of topics: 70\n",
      "Saving LDA model with number of topics: 40\n",
      "Saving LDA model with number of topics: 10\n",
      "Saving LDA model with number of topics: 80\n",
      "Saving LDA model with number of topics: 50\n",
      "Saving LDA model with number of topics: 20\n",
      "Saving LDA model with number of topics: 90\n",
      "Saving LDA model with number of topics: 60\n",
      "Saving LDA model with number of topics: 30\n",
      "   Num_Topics  Log_Perplexity_P_40_I_50  Topic_Coherence(u_mass)_P_40_I_50  \\\n",
      "0        10.0                 -8.377786                          -0.669523   \n",
      "1        20.0                 -8.338646                          -0.925415   \n",
      "2        30.0                 -8.342528                          -1.646460   \n",
      "3        40.0                 -8.320786                          -1.713431   \n",
      "4        50.0                 -8.325969                          -1.709168   \n",
      "5        60.0                 -8.311528                          -1.271904   \n",
      "6        70.0                 -8.321391                          -1.887401   \n",
      "7        80.0                 -8.322833                          -2.072902   \n",
      "8        90.0                 -8.323680                          -1.693449   \n",
      "9       100.0                 -8.312304                          -2.445186   \n",
      "\n",
      "   Topic_Coherence(c_uci)_P_40_I_50  Topic_Coherence(c_v)_P_40_I_50  \n",
      "0                          0.007237                        0.415343  \n",
      "1                               inf                             NaN  \n",
      "2                               inf                             NaN  \n",
      "3                               inf                             NaN  \n",
      "4                               inf                             NaN  \n",
      "5                               inf                             NaN  \n",
      "6                               inf                             NaN  \n",
      "7                               inf                             NaN  \n",
      "8                               inf                             NaN  \n",
      "9                               inf                             NaN  \n"
     ]
    }
   ],
   "source": [
    "SAVE_DIR = OUTPUT_DIR+'/df_60_p40_i50'\n",
    "create_Directories(SAVE_DIR)\n",
    "(dictionary, corpus) = create_dict_corpus(list(df_60['tweet_tokens']), 'data_60', OUTPUT_DIR=SAVE_DIR)\n",
    "models = main(dictionary=dictionary, corpus=corpus, SAVE_DIR=SAVE_DIR, texts=list(df_60['tweet_tokens']))\n",
    "df_60_p40_i50 = models.eval_frame\n",
    "print(df_60_p40_i50)\n",
    "df_60_p40_i50.to_csv(SAVE_DIR+'/measurements.csv', index=False)"
   ]
  },
  {
   "cell_type": "markdown",
   "metadata": {},
   "source": [
    "> ### <font color=green>11.LDA 60% corpus for passes=30 , iterations=50</font>"
   ]
  },
  {
   "cell_type": "code",
   "execution_count": 31,
   "metadata": {},
   "outputs": [
    {
     "name": "stdout",
     "output_type": "stream",
     "text": [
      "Enter the LDA parameters...\n",
      "\n",
      "Start Topic, End_topic, step_size, passes, iterations : 10,100,10,30,50\n",
      "Do you wish to run LDA (y/n)? : y\n",
      "Running LDA for the number of topics: 10\n",
      "Running LDA for the number of topics: 20\n",
      "Running LDA for the number of topics: 30\n",
      "Running LDA for the number of topics: 40\n",
      "Running LDA for the number of topics: 50\n",
      "Running LDA for the number of topics: 60\n",
      "Running LDA for the number of topics: 70\n",
      "Running LDA for the number of topics: 80\n",
      "Running LDA for the number of topics: 90\n",
      "Running LDA for the number of topics: 100\n",
      "Saving LDA model with number of topics: 100\n",
      "Saving LDA model with number of topics: 70\n",
      "Saving LDA model with number of topics: 40\n",
      "Saving LDA model with number of topics: 10\n",
      "Saving LDA model with number of topics: 80\n",
      "Saving LDA model with number of topics: 50\n",
      "Saving LDA model with number of topics: 20\n",
      "Saving LDA model with number of topics: 90\n",
      "Saving LDA model with number of topics: 60\n",
      "Saving LDA model with number of topics: 30\n",
      "   Num_Topics  Log_Perplexity_P_30_I_50  Topic_Coherence(u_mass)_P_30_I_50  \\\n",
      "0        10.0                 -8.396248                          -0.523065   \n",
      "1        20.0                 -8.356650                          -0.845894   \n",
      "2        30.0                 -8.343807                          -1.250969   \n",
      "3        40.0                 -8.354140                          -1.398317   \n",
      "4        50.0                 -8.335149                          -1.576754   \n",
      "5        60.0                 -8.348588                          -1.392023   \n",
      "6        70.0                 -8.330573                          -1.710745   \n",
      "7        80.0                 -8.332254                          -1.961197   \n",
      "8        90.0                 -8.333776                          -1.605127   \n",
      "9       100.0                 -8.325062                          -2.042249   \n",
      "\n",
      "   Topic_Coherence(c_uci)_P_30_I_50  Topic_Coherence(c_v)_P_30_I_50  \n",
      "0                               inf                             NaN  \n",
      "1                               inf                             NaN  \n",
      "2                               inf                             NaN  \n",
      "3                               inf                             NaN  \n",
      "4                               inf                             NaN  \n",
      "5                               inf                             NaN  \n",
      "6                               inf                             NaN  \n",
      "7                               inf                             NaN  \n",
      "8                               inf                             NaN  \n",
      "9                               inf                             NaN  \n"
     ]
    }
   ],
   "source": [
    "SAVE_DIR = OUTPUT_DIR+'/df_60_p30_i50'\n",
    "create_Directories(SAVE_DIR)\n",
    "(dictionary, corpus) = create_dict_corpus(list(df_60['tweet_tokens']), 'data_60', OUTPUT_DIR=SAVE_DIR)\n",
    "models = main(dictionary=dictionary, corpus=corpus, SAVE_DIR=SAVE_DIR, texts=list(df_60['tweet_tokens']))\n",
    "df_60_p30_i50 = models.eval_frame\n",
    "print(df_60_p30_i50)\n",
    "df_60_p30_i50.to_csv(SAVE_DIR+'/measurements.csv', index=False)"
   ]
  },
  {
   "cell_type": "markdown",
   "metadata": {},
   "source": [
    "> ### <font 4\n",
    "olor=green>11.LDA 60% corpus for passes=50 , iterations=50</font>"
   ]
  },
  {
   "cell_type": "code",
   "execution_count": 32,
   "metadata": {},
   "outputs": [
    {
     "name": "stdout",
     "output_type": "stream",
     "text": [
      "Enter the LDA parameters...\n",
      "\n",
      "Start Topic, End_topic, step_size, passes, iterations : 10,100,10,50,50\n",
      "Do you wish to run LDA (y/n)? : y\n",
      "Running LDA for the number of topics: 10\n",
      "Running LDA for the number of topics: 20\n",
      "Running LDA for the number of topics: 30\n",
      "Running LDA for the number of topics: 40\n",
      "Running LDA for the number of topics: 50\n",
      "Running LDA for the number of topics: 60\n",
      "Running LDA for the number of topics: 70\n",
      "Running LDA for the number of topics: 80\n",
      "Running LDA for the number of topics: 90\n",
      "Running LDA for the number of topics: 100\n",
      "Saving LDA model with number of topics: 100\n",
      "Saving LDA model with number of topics: 70\n",
      "Saving LDA model with number of topics: 40\n",
      "Saving LDA model with number of topics: 10\n",
      "Saving LDA model with number of topics: 80\n",
      "Saving LDA model with number of topics: 50\n",
      "Saving LDA model with number of topics: 20\n",
      "Saving LDA model with number of topics: 90\n",
      "Saving LDA model with number of topics: 60\n",
      "Saving LDA model with number of topics: 30\n",
      "   Num_Topics  Log_Perplexity_P_50_I_50  Topic_Coherence(u_mass)_P_50_I_50  \\\n",
      "0        10.0                 -8.353732                          -1.161593   \n",
      "1        20.0                 -8.323477                          -1.604958   \n",
      "2        30.0                 -8.296634                          -1.357055   \n",
      "3        40.0                 -8.291528                          -1.226557   \n",
      "4        50.0                 -8.284933                          -1.888661   \n",
      "5        60.0                 -8.282259                          -1.701060   \n",
      "6        70.0                 -8.293920                          -1.595666   \n",
      "7        80.0                 -8.285737                          -2.161445   \n",
      "8        90.0                 -8.282030                          -1.478136   \n",
      "9       100.0                 -8.296487                          -2.077045   \n",
      "\n",
      "   Topic_Coherence(c_uci)_P_50_I_50  Topic_Coherence(c_v)_P_50_I_50  \n",
      "0                         -0.473783                        0.397112  \n",
      "1                         -0.949218                        0.375947  \n",
      "2                         -0.330677                        0.406836  \n",
      "3                         -0.393693                        0.400729  \n",
      "4                         -0.758385                        0.402557  \n",
      "5                         -0.435936                        0.420165  \n",
      "6                         -0.676490                        0.411430  \n",
      "7                         -0.811122                        0.411568  \n",
      "8                         -0.577029                        0.398206  \n",
      "9                         -0.716903                        0.424897  \n"
     ]
    }
   ],
   "source": [
    "SAVE_DIR = OUTPUT_DIR+'/df_40_p50_i50'\n",
    "create_Directories(SAVE_DIR)\n",
    "(dictionary, corpus) = create_dict_corpus(list(df_40['tweet_tokens']), 'data_40', OUTPUT_DIR=SAVE_DIR)\n",
    "models = main(dictionary=dictionary, corpus=corpus, SAVE_DIR=SAVE_DIR, texts=list(df_40['tweet_tokens']))\n",
    "df_40_p50_i50 = models.eval_frame\n",
    "print(df_40_p50_i50)\n",
    "df_40_p50_i50.to_csv(SAVE_DIR+'/measurements.csv', index=False)"
   ]
  },
  {
   "cell_type": "code",
   "execution_count": 37,
   "metadata": {},
   "outputs": [
    {
     "name": "stdout",
     "output_type": "stream",
     "text": [
      "Enter the LDA parameters...\n",
      "\n",
      "Start Topic, End_topic, step_size, passes, iterations : 10,100,10,40,50\n",
      "Do you wish to run LDA (y/n)? : y\n",
      "Running LDA for the number of topics: 10\n",
      "Running LDA for the number of topics: 20\n",
      "Running LDA for the number of topics: 30\n",
      "Running LDA for the number of topics: 40\n",
      "Running LDA for the number of topics: 50\n",
      "Running LDA for the number of topics: 60\n",
      "Running LDA for the number of topics: 70\n",
      "Running LDA for the number of topics: 80\n",
      "Running LDA for the number of topics: 90\n",
      "Running LDA for the number of topics: 100\n",
      "Saving LDA model with number of topics: 100\n",
      "Saving LDA model with number of topics: 70\n",
      "Saving LDA model with number of topics: 40\n",
      "Saving LDA model with number of topics: 10\n",
      "Saving LDA model with number of topics: 80\n",
      "Saving LDA model with number of topics: 50\n",
      "Saving LDA model with number of topics: 20\n",
      "Saving LDA model with number of topics: 90\n",
      "Saving LDA model with number of topics: 60\n",
      "Saving LDA model with number of topics: 30\n",
      "   Num_Topics  Log_Perplexity_P_40_I_50  Topic_Coherence(u_mass)_P_40_I_50  \\\n",
      "0        10.0                 -8.368152                          -0.455424   \n",
      "1        20.0                 -8.312142                          -1.510109   \n",
      "2        30.0                 -8.304519                          -1.795939   \n",
      "3        40.0                 -8.300721                          -1.552448   \n",
      "4        50.0                 -8.281699                          -1.858010   \n",
      "5        60.0                 -8.298094                          -1.815558   \n",
      "6        70.0                 -8.279335                          -1.818505   \n",
      "7        80.0                 -8.285065                          -1.494327   \n",
      "8        90.0                 -8.295726                          -2.197921   \n",
      "9       100.0                 -8.285715                          -1.803848   \n",
      "\n",
      "   Topic_Coherence(c_uci)_P_40_I_50  Topic_Coherence(c_v)_P_40_I_50  \n",
      "0                         -0.033781                        0.363999  \n",
      "1                         -0.349146                        0.402019  \n",
      "2                         -0.763293                        0.399288  \n",
      "3                         -0.793324                        0.392107  \n",
      "4                         -0.650690                        0.432470  \n",
      "5                         -0.721293                        0.393821  \n",
      "6                         -0.623708                        0.429537  \n",
      "7                         -0.411502                        0.447863  \n",
      "8                         -0.971257                        0.422135  \n",
      "9                         -1.013897                        0.428785  \n"
     ]
    }
   ],
   "source": [
    "SAVE_DIR = OUTPUT_DIR+'/df_40_p40_i50'\n",
    "create_Directories(SAVE_DIR)\n",
    "(dictionary, corpus) = create_dict_corpus(list(df_40['tweet_tokens']), 'data_40', OUTPUT_DIR=SAVE_DIR)\n",
    "models = main(dictionary=dictionary, corpus=corpus, SAVE_DIR=SAVE_DIR, texts=list(df_40['tweet_tokens']))\n",
    "df_40_p40_i50 = models.eval_frame\n",
    "print(df_40_p40_i50)\n",
    "df_40_p40_i50.to_csv(SAVE_DIR+'/measurements.csv', index=False)"
   ]
  },
  {
   "cell_type": "code",
   "execution_count": 36,
   "metadata": {},
   "outputs": [],
   "source": [
    "with open(log_file,'w') as f:\n",
    "  pass"
   ]
  },
  {
   "cell_type": "code",
   "execution_count": null,
   "metadata": {},
   "outputs": [],
   "source": []
  }
 ],
 "metadata": {
  "kernelspec": {
   "display_name": "Python 2",
   "language": "python",
   "name": "python2"
  },
  "language_info": {
   "codemirror_mode": {
    "name": "ipython",
    "version": 2
   },
   "file_extension": ".py",
   "mimetype": "text/x-python",
   "name": "python",
   "nbconvert_exporter": "python",
   "pygments_lexer": "ipython2",
   "version": "2.7.15"
  },
  "pycharm": {
   "stem_cell": {
    "cell_type": "raw",
    "source": [],
    "metadata": {
     "collapsed": false
    }
   }
  }
 },
 "nbformat": 4,
 "nbformat_minor": 2
}